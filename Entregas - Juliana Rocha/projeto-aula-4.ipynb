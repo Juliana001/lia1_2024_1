{
 "cells": [
  {
   "cell_type": "markdown",
   "id": "19546d11",
   "metadata": {
    "papermill": {
     "duration": 0.007537,
     "end_time": "2024-03-27T13:51:24.401218",
     "exception": false,
     "start_time": "2024-03-27T13:51:24.393681",
     "status": "completed"
    },
    "tags": []
   },
   "source": [
    "<!DOCTYPE html>\n",
    "<html>\n",
    "\n",
    "<div class='container2'>\n",
    "<div>\n",
    "<img src='https://w7.pngwing.com/pngs/500/980/png-transparent-internet-of-things-artificial-intelligence-big-data-artificial-brain-technology-angle-electronics-text.png' ALIGN='left' style='width:10em'>\n",
    "</div>\t\n",
    "<div style='padding: 0 7em 2em 12em;'>\n",
    "<h1>Laboratório de Inovação e Automação 1 (LIA 1)</h1>\n",
    "\n",
    "<div style=\"font-size:12pt;float:left;\"><b>Projetos de Inteligência Artificial</b></div>\n",
    "</div>\n",
    "</div>\n",
    "\n",
    "<hr style=\"height:5px\">\n",
    "\n",
    "<h2>Introdução ao Ambiente de Projetos - Python</h2>\n",
    "\n",
    "Notebook desenvolvido por: <a href=\"http://lattes.cnpq.br/4885240677233306\">Aluna. Juliana do Nascimento Rocha</a>\n",
    "\n",
    "<hr style=\"height:2px\">\n",
    "<\\html>"
   ]
  },
  {
   "cell_type": "code",
   "execution_count": 1,
   "id": "68a6a8b3",
   "metadata": {
    "execution": {
     "iopub.execute_input": "2024-03-27T13:51:24.417410Z",
     "iopub.status.busy": "2024-03-27T13:51:24.416664Z",
     "iopub.status.idle": "2024-03-27T13:51:24.430706Z",
     "shell.execute_reply": "2024-03-27T13:51:24.429373Z"
    },
    "papermill": {
     "duration": 0.024933,
     "end_time": "2024-03-27T13:51:24.433066",
     "exception": false,
     "start_time": "2024-03-27T13:51:24.408133",
     "status": "completed"
    },
    "tags": []
   },
   "outputs": [
    {
     "name": "stdout",
     "output_type": "stream",
     "text": [
      "A versão em uso é 3.10.13.\n"
     ]
    }
   ],
   "source": [
    "from platform import python_version\n",
    "print(f'A versão em uso é {python_version()}.')"
   ]
  },
  {
   "cell_type": "markdown",
   "id": "1e4993bd",
   "metadata": {
    "papermill": {
     "duration": 0.006661,
     "end_time": "2024-03-27T13:51:24.446855",
     "exception": false,
     "start_time": "2024-03-27T13:51:24.440194",
     "status": "completed"
    },
    "tags": []
   },
   "source": [
    "Tipo de Dados (Type)"
   ]
  },
  {
   "cell_type": "code",
   "execution_count": 2,
   "id": "890b4b23",
   "metadata": {
    "execution": {
     "iopub.execute_input": "2024-03-27T13:51:24.463588Z",
     "iopub.status.busy": "2024-03-27T13:51:24.462470Z",
     "iopub.status.idle": "2024-03-27T13:51:24.469342Z",
     "shell.execute_reply": "2024-03-27T13:51:24.468513Z"
    },
    "papermill": {
     "duration": 0.017587,
     "end_time": "2024-03-27T13:51:24.471521",
     "exception": false,
     "start_time": "2024-03-27T13:51:24.453934",
     "status": "completed"
    },
    "tags": []
   },
   "outputs": [
    {
     "data": {
      "text/plain": [
       "int"
      ]
     },
     "execution_count": 2,
     "metadata": {},
     "output_type": "execute_result"
    }
   ],
   "source": [
    "# Qual o tipo do (?) -> Inteiro\n",
    "type(5)"
   ]
  },
  {
   "cell_type": "code",
   "execution_count": 3,
   "id": "9f3263a4",
   "metadata": {
    "execution": {
     "iopub.execute_input": "2024-03-27T13:51:24.489115Z",
     "iopub.status.busy": "2024-03-27T13:51:24.487884Z",
     "iopub.status.idle": "2024-03-27T13:51:24.495307Z",
     "shell.execute_reply": "2024-03-27T13:51:24.494054Z"
    },
    "papermill": {
     "duration": 0.018345,
     "end_time": "2024-03-27T13:51:24.497628",
     "exception": false,
     "start_time": "2024-03-27T13:51:24.479283",
     "status": "completed"
    },
    "tags": []
   },
   "outputs": [
    {
     "data": {
      "text/plain": [
       "float"
      ]
     },
     "execution_count": 3,
     "metadata": {},
     "output_type": "execute_result"
    }
   ],
   "source": [
    "\n",
    "\n",
    "# Qual o tipo do (?) -> Float - Decimal\n",
    "type(5.0)\n"
   ]
  },
  {
   "cell_type": "code",
   "execution_count": 4,
   "id": "9bc34a97",
   "metadata": {
    "execution": {
     "iopub.execute_input": "2024-03-27T13:51:24.516541Z",
     "iopub.status.busy": "2024-03-27T13:51:24.515888Z",
     "iopub.status.idle": "2024-03-27T13:51:24.522532Z",
     "shell.execute_reply": "2024-03-27T13:51:24.521451Z"
    },
    "papermill": {
     "duration": 0.017967,
     "end_time": "2024-03-27T13:51:24.524891",
     "exception": false,
     "start_time": "2024-03-27T13:51:24.506924",
     "status": "completed"
    },
    "tags": []
   },
   "outputs": [
    {
     "data": {
      "text/plain": [
       "str"
      ]
     },
     "execution_count": 4,
     "metadata": {},
     "output_type": "execute_result"
    }
   ],
   "source": [
    "#Qual o tipo de dado\n",
    "a = 'estudando python!'\n",
    "type(a)"
   ]
  },
  {
   "cell_type": "markdown",
   "id": "7e28a3be",
   "metadata": {
    "papermill": {
     "duration": 0.007437,
     "end_time": "2024-03-27T13:51:24.540021",
     "exception": false,
     "start_time": "2024-03-27T13:51:24.532584",
     "status": "completed"
    },
    "tags": []
   },
   "source": [
    "Operadores aritmeticos\n"
   ]
  },
  {
   "cell_type": "code",
   "execution_count": 5,
   "id": "83a66b04",
   "metadata": {
    "execution": {
     "iopub.execute_input": "2024-03-27T13:51:24.556807Z",
     "iopub.status.busy": "2024-03-27T13:51:24.556437Z",
     "iopub.status.idle": "2024-03-27T13:51:24.562762Z",
     "shell.execute_reply": "2024-03-27T13:51:24.561661Z"
    },
    "papermill": {
     "duration": 0.017826,
     "end_time": "2024-03-27T13:51:24.565542",
     "exception": false,
     "start_time": "2024-03-27T13:51:24.547716",
     "status": "completed"
    },
    "tags": []
   },
   "outputs": [
    {
     "data": {
      "text/plain": [
       "2"
      ]
     },
     "execution_count": 5,
     "metadata": {},
     "output_type": "execute_result"
    }
   ],
   "source": [
    "#adição\n",
    "1+1"
   ]
  },
  {
   "cell_type": "code",
   "execution_count": 6,
   "id": "4f33ffca",
   "metadata": {
    "execution": {
     "iopub.execute_input": "2024-03-27T13:51:24.583072Z",
     "iopub.status.busy": "2024-03-27T13:51:24.582714Z",
     "iopub.status.idle": "2024-03-27T13:51:24.590232Z",
     "shell.execute_reply": "2024-03-27T13:51:24.588960Z"
    },
    "papermill": {
     "duration": 0.018995,
     "end_time": "2024-03-27T13:51:24.592602",
     "exception": false,
     "start_time": "2024-03-27T13:51:24.573607",
     "status": "completed"
    },
    "tags": []
   },
   "outputs": [
    {
     "data": {
      "text/plain": [
       "9"
      ]
     },
     "execution_count": 6,
     "metadata": {},
     "output_type": "execute_result"
    }
   ],
   "source": [
    "#subtração\n",
    "18-9"
   ]
  },
  {
   "cell_type": "code",
   "execution_count": 7,
   "id": "626ade66",
   "metadata": {
    "execution": {
     "iopub.execute_input": "2024-03-27T13:51:24.610180Z",
     "iopub.status.busy": "2024-03-27T13:51:24.609782Z",
     "iopub.status.idle": "2024-03-27T13:51:24.616110Z",
     "shell.execute_reply": "2024-03-27T13:51:24.615352Z"
    },
    "papermill": {
     "duration": 0.017759,
     "end_time": "2024-03-27T13:51:24.618314",
     "exception": false,
     "start_time": "2024-03-27T13:51:24.600555",
     "status": "completed"
    },
    "tags": []
   },
   "outputs": [
    {
     "data": {
      "text/plain": [
       "18"
      ]
     },
     "execution_count": 7,
     "metadata": {},
     "output_type": "execute_result"
    }
   ],
   "source": [
    "#Multiplicação\n",
    "3*6"
   ]
  },
  {
   "cell_type": "code",
   "execution_count": 8,
   "id": "ec0d2479",
   "metadata": {
    "execution": {
     "iopub.execute_input": "2024-03-27T13:51:24.636609Z",
     "iopub.status.busy": "2024-03-27T13:51:24.636171Z",
     "iopub.status.idle": "2024-03-27T13:51:24.643324Z",
     "shell.execute_reply": "2024-03-27T13:51:24.642129Z"
    },
    "papermill": {
     "duration": 0.01905,
     "end_time": "2024-03-27T13:51:24.645668",
     "exception": false,
     "start_time": "2024-03-27T13:51:24.626618",
     "status": "completed"
    },
    "tags": []
   },
   "outputs": [
    {
     "data": {
      "text/plain": [
       "2.0"
      ]
     },
     "execution_count": 8,
     "metadata": {},
     "output_type": "execute_result"
    }
   ],
   "source": [
    "#Divisão\n",
    "8/4"
   ]
  },
  {
   "cell_type": "code",
   "execution_count": 9,
   "id": "2c6c3439",
   "metadata": {
    "execution": {
     "iopub.execute_input": "2024-03-27T13:51:24.666090Z",
     "iopub.status.busy": "2024-03-27T13:51:24.665468Z",
     "iopub.status.idle": "2024-03-27T13:51:24.671477Z",
     "shell.execute_reply": "2024-03-27T13:51:24.670452Z"
    },
    "papermill": {
     "duration": 0.018127,
     "end_time": "2024-03-27T13:51:24.673667",
     "exception": false,
     "start_time": "2024-03-27T13:51:24.655540",
     "status": "completed"
    },
    "tags": []
   },
   "outputs": [
    {
     "data": {
      "text/plain": [
       "16"
      ]
     },
     "execution_count": 9,
     "metadata": {},
     "output_type": "execute_result"
    }
   ],
   "source": [
    "#Potência\n",
    "2 ** 4"
   ]
  },
  {
   "cell_type": "code",
   "execution_count": 10,
   "id": "26932b51",
   "metadata": {
    "execution": {
     "iopub.execute_input": "2024-03-27T13:51:24.693215Z",
     "iopub.status.busy": "2024-03-27T13:51:24.692829Z",
     "iopub.status.idle": "2024-03-27T13:51:24.699162Z",
     "shell.execute_reply": "2024-03-27T13:51:24.698337Z"
    },
    "papermill": {
     "duration": 0.018555,
     "end_time": "2024-03-27T13:51:24.701244",
     "exception": false,
     "start_time": "2024-03-27T13:51:24.682689",
     "status": "completed"
    },
    "tags": []
   },
   "outputs": [
    {
     "data": {
      "text/plain": [
       "1"
      ]
     },
     "execution_count": 10,
     "metadata": {},
     "output_type": "execute_result"
    }
   ],
   "source": [
    "#Módulo\n",
    "10%3"
   ]
  },
  {
   "cell_type": "markdown",
   "id": "bfa52935",
   "metadata": {
    "papermill": {
     "duration": 0.008819,
     "end_time": "2024-03-27T13:51:24.719724",
     "exception": false,
     "start_time": "2024-03-27T13:51:24.710905",
     "status": "completed"
    },
    "tags": []
   },
   "source": [
    "Condicional if"
   ]
  },
  {
   "cell_type": "code",
   "execution_count": 11,
   "id": "23813626",
   "metadata": {
    "execution": {
     "iopub.execute_input": "2024-03-27T13:51:24.739753Z",
     "iopub.status.busy": "2024-03-27T13:51:24.739395Z",
     "iopub.status.idle": "2024-03-27T13:51:24.745885Z",
     "shell.execute_reply": "2024-03-27T13:51:24.744686Z"
    },
    "papermill": {
     "duration": 0.019804,
     "end_time": "2024-03-27T13:51:24.748596",
     "exception": false,
     "start_time": "2024-03-27T13:51:24.728792",
     "status": "completed"
    },
    "tags": []
   },
   "outputs": [
    {
     "name": "stdout",
     "output_type": "stream",
     "text": [
      "A sentença é verdadeira!\n",
      "A sentença é falsa!\n"
     ]
    }
   ],
   "source": [
    "# Condicional if (Se)\n",
    "if 5 > 2:\n",
    "    print(\"A sentença é verdadeira!\")\n",
    "# Condicional if...else\n",
    "if 5 < 2:\n",
    "    print(\"A sentença é verdadeira!\")\n",
    "else:\n",
    "    print(\"A sentença é falsa!\")\n"
   ]
  },
  {
   "cell_type": "markdown",
   "id": "14a57ce1",
   "metadata": {
    "papermill": {
     "duration": 0.009058,
     "end_time": "2024-03-27T13:51:24.766906",
     "exception": false,
     "start_time": "2024-03-27T13:51:24.757848",
     "status": "completed"
    },
    "tags": []
   },
   "source": [
    "Manipulando arquivos"
   ]
  },
  {
   "cell_type": "code",
   "execution_count": 12,
   "id": "6f2ef8b7",
   "metadata": {
    "execution": {
     "iopub.execute_input": "2024-03-27T13:51:24.787394Z",
     "iopub.status.busy": "2024-03-27T13:51:24.786421Z",
     "iopub.status.idle": "2024-03-27T13:51:24.792400Z",
     "shell.execute_reply": "2024-03-27T13:51:24.791096Z"
    },
    "papermill": {
     "duration": 0.018585,
     "end_time": "2024-03-27T13:51:24.794597",
     "exception": false,
     "start_time": "2024-03-27T13:51:24.776012",
     "status": "completed"
    },
    "tags": []
   },
   "outputs": [
    {
     "name": "stdout",
     "output_type": "stream",
     "text": [
      "Bye bye, World!\n"
     ]
    }
   ],
   "source": [
    "# Verificar se o Python está funcionando\n",
    "print('Bye bye, World!')\n"
   ]
  },
  {
   "cell_type": "code",
   "execution_count": 13,
   "id": "25cb07fc",
   "metadata": {
    "execution": {
     "iopub.execute_input": "2024-03-27T13:51:24.815140Z",
     "iopub.status.busy": "2024-03-27T13:51:24.814765Z",
     "iopub.status.idle": "2024-03-27T13:51:24.822752Z",
     "shell.execute_reply": "2024-03-27T13:51:24.821807Z"
    },
    "papermill": {
     "duration": 0.021281,
     "end_time": "2024-03-27T13:51:24.825094",
     "exception": false,
     "start_time": "2024-03-27T13:51:24.803813",
     "status": "completed"
    },
    "tags": []
   },
   "outputs": [],
   "source": [
    "# Abrindo o arquivo para a leitura\n",
    "a1 = open(\"/kaggle/input/dataset-aulas-2703/Arquivo1.txt\", \"r\")\n"
   ]
  },
  {
   "cell_type": "code",
   "execution_count": 14,
   "id": "b0b851af",
   "metadata": {
    "execution": {
     "iopub.execute_input": "2024-03-27T13:51:24.845685Z",
     "iopub.status.busy": "2024-03-27T13:51:24.845316Z",
     "iopub.status.idle": "2024-03-27T13:51:24.850349Z",
     "shell.execute_reply": "2024-03-27T13:51:24.849220Z"
    },
    "papermill": {
     "duration": 0.018005,
     "end_time": "2024-03-27T13:51:24.852611",
     "exception": false,
     "start_time": "2024-03-27T13:51:24.834606",
     "status": "completed"
    },
    "tags": []
   },
   "outputs": [
    {
     "name": "stdout",
     "output_type": "stream",
     "text": [
      "\n"
     ]
    }
   ],
   "source": [
    "#lendo o projeto\n",
    "print(a1.read())"
   ]
  },
  {
   "cell_type": "code",
   "execution_count": 15,
   "id": "d4d4b87d",
   "metadata": {
    "execution": {
     "iopub.execute_input": "2024-03-27T13:51:24.873064Z",
     "iopub.status.busy": "2024-03-27T13:51:24.872662Z",
     "iopub.status.idle": "2024-03-27T13:51:24.878242Z",
     "shell.execute_reply": "2024-03-27T13:51:24.877110Z"
    },
    "papermill": {
     "duration": 0.018263,
     "end_time": "2024-03-27T13:51:24.880458",
     "exception": false,
     "start_time": "2024-03-27T13:51:24.862195",
     "status": "completed"
    },
    "tags": []
   },
   "outputs": [],
   "source": [
    "a2 = open(\"/kaggle/working/arquivos2.txt\", \"w\")"
   ]
  },
  {
   "cell_type": "code",
   "execution_count": 16,
   "id": "21747ccf",
   "metadata": {
    "execution": {
     "iopub.execute_input": "2024-03-27T13:51:24.900686Z",
     "iopub.status.busy": "2024-03-27T13:51:24.900213Z",
     "iopub.status.idle": "2024-03-27T13:51:24.907022Z",
     "shell.execute_reply": "2024-03-27T13:51:24.906144Z"
    },
    "papermill": {
     "duration": 0.019693,
     "end_time": "2024-03-27T13:51:24.909324",
     "exception": false,
     "start_time": "2024-03-27T13:51:24.889631",
     "status": "completed"
    },
    "tags": []
   },
   "outputs": [
    {
     "data": {
      "text/plain": [
       "59"
      ]
     },
     "execution_count": 16,
     "metadata": {},
     "output_type": "execute_result"
    }
   ],
   "source": [
    "#Gravando no arquivo\n",
    "a2.write(\"Aprendendo Python em 2024/1 ao som de um cortador de grama!\")"
   ]
  },
  {
   "cell_type": "code",
   "execution_count": 17,
   "id": "a65ceeb0",
   "metadata": {
    "execution": {
     "iopub.execute_input": "2024-03-27T13:51:24.930511Z",
     "iopub.status.busy": "2024-03-27T13:51:24.929889Z",
     "iopub.status.idle": "2024-03-27T13:51:24.934528Z",
     "shell.execute_reply": "2024-03-27T13:51:24.933445Z"
    },
    "papermill": {
     "duration": 0.017854,
     "end_time": "2024-03-27T13:51:24.936830",
     "exception": false,
     "start_time": "2024-03-27T13:51:24.918976",
     "status": "completed"
    },
    "tags": []
   },
   "outputs": [],
   "source": [
    "#Abrindo o arquivo para a leitura\n",
    "a2 = open(\"/kaggle/working/arquivos2.txt\", \"r\")"
   ]
  },
  {
   "cell_type": "code",
   "execution_count": 18,
   "id": "f14bbf3f",
   "metadata": {
    "execution": {
     "iopub.execute_input": "2024-03-27T13:51:24.957622Z",
     "iopub.status.busy": "2024-03-27T13:51:24.957218Z",
     "iopub.status.idle": "2024-03-27T13:51:24.962385Z",
     "shell.execute_reply": "2024-03-27T13:51:24.961336Z"
    },
    "papermill": {
     "duration": 0.018784,
     "end_time": "2024-03-27T13:51:24.965157",
     "exception": false,
     "start_time": "2024-03-27T13:51:24.946373",
     "status": "completed"
    },
    "tags": []
   },
   "outputs": [
    {
     "name": "stdout",
     "output_type": "stream",
     "text": [
      "Aprendendo Python em 2024/1 ao som de um cortador de grama!\n"
     ]
    }
   ],
   "source": [
    "#imprimindo arquivo\n",
    "print(a2.read())"
   ]
  }
 ],
 "metadata": {
  "kaggle": {
   "accelerator": "none",
   "dataSources": [
    {
     "datasetId": 4680236,
     "sourceId": 7956923,
     "sourceType": "datasetVersion"
    }
   ],
   "dockerImageVersionId": 30673,
   "isGpuEnabled": false,
   "isInternetEnabled": false,
   "language": "python",
   "sourceType": "notebook"
  },
  "kernelspec": {
   "display_name": "Python 3",
   "language": "python",
   "name": "python3"
  },
  "language_info": {
   "codemirror_mode": {
    "name": "ipython",
    "version": 3
   },
   "file_extension": ".py",
   "mimetype": "text/x-python",
   "name": "python",
   "nbconvert_exporter": "python",
   "pygments_lexer": "ipython3",
   "version": "3.10.13"
  },
  "papermill": {
   "default_parameters": {},
   "duration": 3.921016,
   "end_time": "2024-03-27T13:51:25.295392",
   "environment_variables": {},
   "exception": null,
   "input_path": "__notebook__.ipynb",
   "output_path": "__notebook__.ipynb",
   "parameters": {},
   "start_time": "2024-03-27T13:51:21.374376",
   "version": "2.5.0"
  }
 },
 "nbformat": 4,
 "nbformat_minor": 5
}
