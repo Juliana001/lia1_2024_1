{
 "cells": [
  {
   "cell_type": "markdown",
   "id": "4516abda-6ebd-449b-82f5-2e0efb11d857",
   "metadata": {},
   "source": [
    "<hr style=\"height:10px\"> \n",
    " \n",
    "<div class='container2'>\n",
    "\t\t<div>\n",
    "\t\t\t<img src='images\\header.png' ALIGN='left' style='width:10em'>\n",
    "\t\t</div>\t\n",
    "\t<div style='padding: 0 7em 2em 12em;'>\n",
    "\t<h1>Laboratório de Inovação e Automação 1 (LIA 1)</h1>\n",
    "\t<div style=\"font-size:12pt;float:left;\"> 2024/1 | 24M34 | Sala 200 CAE</div><br><br>\n",
    "    <div style=\"font-size:12pt;float:left;\"><b>Projetos de Inteligência Artificial</b></div>\n",
    "\t</div>\n",
    "</div>\n",
    "\n",
    "\n",
    " <hr style=\"height:5px\"> \n",
    "\n",
    "    \n",
    "<h2>Introdução ao Ambiente de Projetos - Python</h2>\n",
    "\n",
    "Notebook desenvolvido por: <a href=\"http://lattes.cnpq.br/1346824250595330\">Prof. Dr. Adriano C. Santana</a>\n",
    "\n",
    " <hr style=\"height:2px\"> "
   ]
  },
  {
   "cell_type": "code",
   "execution_count": 3,
   "id": "5194a5bf-15e0-4830-9db8-4120ec384c5f",
   "metadata": {},
   "outputs": [
    {
     "name": "stdout",
     "output_type": "stream",
     "text": [
      "A versão em uso é 3.11.7.\n"
     ]
    }
   ],
   "source": [
    "from platform import python_version\n",
    "print(f'A versão em uso é {python_version()}.')"
   ]
  },
  {
   "cell_type": "markdown",
   "id": "f685e4d5-c887-4ba3-b9dc-85d90c51f56b",
   "metadata": {},
   "source": [
    "Tipo de Dados (Type)"
   ]
  },
  {
   "cell_type": "code",
   "execution_count": 2,
   "id": "9d5047fc-692b-49c4-811f-110764d77b55",
   "metadata": {},
   "outputs": [
    {
     "data": {
      "text/plain": [
       "int"
      ]
     },
     "execution_count": 2,
     "metadata": {},
     "output_type": "execute_result"
    }
   ],
   "source": [
    "# Qual o tipo do (?) -> Inteiro\n",
    "type(5)"
   ]
  },
  {
   "cell_type": "code",
   "execution_count": 1,
   "id": "7b359d61-c271-49a2-a58b-5a99cfc61c2b",
   "metadata": {},
   "outputs": [
    {
     "data": {
      "text/plain": [
       "float"
      ]
     },
     "execution_count": 1,
     "metadata": {},
     "output_type": "execute_result"
    }
   ],
   "source": [
    "\n",
    "\n",
    "# Qual o tipo do (?) -> Float - Decimal\n",
    "type(5.0)\n"
   ]
  },
  {
   "cell_type": "code",
   "execution_count": 6,
   "id": "e481fde3-0675-495b-8ee6-d6629a134128",
   "metadata": {},
   "outputs": [
    {
     "data": {
      "text/plain": [
       "str"
      ]
     },
     "execution_count": 6,
     "metadata": {},
     "output_type": "execute_result"
    }
   ],
   "source": [
    "#Qual o tipo de dado\n",
    "a = 'estudando python!'\n",
    "type(a)"
   ]
  },
  {
   "cell_type": "code",
   "execution_count": 4,
   "id": "d6aebfa8-d335-4172-a834-f48de85795ac",
   "metadata": {},
   "outputs": [
    {
     "name": "stdout",
     "output_type": "stream",
     "text": [
      "Bye bye, World!\n"
     ]
    }
   ],
   "source": [
    "# Verificar se o Python está funcionando\n",
    "print('Bye bye, World!')\n"
   ]
  },
  {
   "cell_type": "markdown",
   "id": "fec69b9a-589b-4d8b-b7f0-d5f749df824b",
   "metadata": {},
   "source": [
    "Operadores aritmeticos"
   ]
  },
  {
   "cell_type": "code",
   "execution_count": null,
   "id": "4d8fcf6f-c9a3-4372-8c50-6faa0dfa070a",
   "metadata": {},
   "outputs": [],
   "source": [
    "#adição\n",
    "1+1"
   ]
  },
  {
   "cell_type": "code",
   "execution_count": null,
   "id": "70ace24a-457c-4945-b222-799e9baee37a",
   "metadata": {},
   "outputs": [],
   "source": [
    "#subtração\n",
    "18-9"
   ]
  },
  {
   "cell_type": "code",
   "execution_count": null,
   "id": "01b1363c-9c64-43b4-8fc1-709fe1d01b7f",
   "metadata": {},
   "outputs": [],
   "source": [
    "#Multiplicação\n",
    "3*6"
   ]
  },
  {
   "cell_type": "code",
   "execution_count": 5,
   "id": "0975b9b8-b7ab-4be5-8961-b402d00bddf6",
   "metadata": {},
   "outputs": [
    {
     "data": {
      "text/plain": [
       "2.0"
      ]
     },
     "execution_count": 5,
     "metadata": {},
     "output_type": "execute_result"
    }
   ],
   "source": [
    "#Divisão\n",
    "8/4"
   ]
  },
  {
   "cell_type": "code",
   "execution_count": null,
   "id": "79c288d2-2073-40b6-8a03-4a9a17baaca2",
   "metadata": {},
   "outputs": [],
   "source": [
    "#Potência\n",
    "2 ** 4"
   ]
  },
  {
   "cell_type": "code",
   "execution_count": null,
   "id": "72fc93bc-8587-435c-b28c-cd01df0518bc",
   "metadata": {},
   "outputs": [],
   "source": [
    "#Módulo\n",
    "10%3"
   ]
  },
  {
   "cell_type": "markdown",
   "id": "00ba862b-5997-4da1-8e30-710db6a19346",
   "metadata": {},
   "source": [
    "Condicional if"
   ]
  },
  {
   "cell_type": "code",
   "execution_count": 4,
   "id": "fd32e8d4-ee90-4b6e-9f38-f91dea6d10be",
   "metadata": {},
   "outputs": [
    {
     "name": "stdout",
     "output_type": "stream",
     "text": [
      "A sentença é verdadeira!\n",
      "A sentença é falsa!\n"
     ]
    }
   ],
   "source": [
    "\n",
    "# Condicional if (Se)\n",
    "if 5 > 2:\n",
    "    print(\"A sentença é verdadeira!\")\n",
    "# Condicional if...else\n",
    "if 5 < 2:\n",
    "    print(\"A sentença é verdadeira!\")\n",
    "else:\n",
    "    print(\"A sentença é falsa!\")\n"
   ]
  },
  {
   "cell_type": "markdown",
   "id": "217b887b-2320-47fe-aa00-7c79ae04007b",
   "metadata": {},
   "source": [
    "Manipulando arquivos"
   ]
  },
  {
   "cell_type": "markdown",
   "id": "40be673c-848a-4565-bc94-1b467ae8f6df",
   "metadata": {},
   "source": [
    "Lendo arquivos (.txt)"
   ]
  },
  {
   "cell_type": "code",
   "execution_count": null,
   "id": "d10c4cb1-1a8a-4855-9b66-24c8da8ae425",
   "metadata": {},
   "outputs": [],
   "source": [
    "# Abrindo o arquivo para a leitura\n",
    "a1 = open(\"arquivos/arquivo1.txt\", \"r\")"
   ]
  },
  {
   "cell_type": "code",
   "execution_count": null,
   "id": "0cc87828-15ef-4625-97bf-97669eb51456",
   "metadata": {},
   "outputs": [],
   "source": [
    "#lendo o arquivo\n",
    "print(a1.read())"
   ]
  },
  {
   "cell_type": "markdown",
   "id": "30721e9c-b408-46a5-acfb-b2b1bcafc5e3",
   "metadata": {},
   "source": [
    "Gravando arquivos (.txt)"
   ]
  },
  {
   "cell_type": "code",
   "execution_count": null,
   "id": "4aa52ddf-26e8-4fbc-80af-3158f5e1bfff",
   "metadata": {},
   "outputs": [],
   "source": [
    "a2 = open(\"arquivos/arquivos2.txt\", \"w\")"
   ]
  },
  {
   "cell_type": "code",
   "execution_count": null,
   "id": "efb3d67e-2d50-49d1-b36a-90be89fd957e",
   "metadata": {},
   "outputs": [],
   "source": [
    "#Gravando no arquivo\n",
    "a2.write(\"Aprendendo Python em 2024/1 ao som de um cortador de grama!\")"
   ]
  },
  {
   "cell_type": "code",
   "execution_count": null,
   "id": "8a9d3f46-ed62-4efe-9bfa-1a602551c232",
   "metadata": {},
   "outputs": [],
   "source": [
    "#Abrindo o arquivo para a leitura\n",
    "a2 = open(\"arquivos/arquivo2.txt\", \"r\")"
   ]
  },
  {
   "cell_type": "code",
   "execution_count": null,
   "id": "f630e913-55f9-4876-8b0c-4d086f3300a2",
   "metadata": {},
   "outputs": [],
   "source": [
    "#imprimindo arquivo\n",
    "print(a2.read())"
   ]
  }
 ],
 "metadata": {
  "kernelspec": {
   "display_name": "Python 3 (ipykernel)",
   "language": "python",
   "name": "python3"
  },
  "language_info": {
   "codemirror_mode": {
    "name": "ipython",
    "version": 3
   },
   "file_extension": ".py",
   "mimetype": "text/x-python",
   "name": "python",
   "nbconvert_exporter": "python",
   "pygments_lexer": "ipython3",
   "version": "3.11.7"
  }
 },
 "nbformat": 4,
 "nbformat_minor": 5
}
