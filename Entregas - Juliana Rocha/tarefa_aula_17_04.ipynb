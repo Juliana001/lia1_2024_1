{
  "nbformat": 4,
  "nbformat_minor": 0,
  "metadata": {
    "colab": {
      "provenance": [],
      "mount_file_id": "1Wywhb4fr9Tb5YHSgKAGA3UCAswYlOXqc",
      "authorship_tag": "ABX9TyOz5SO5SVxFt40XUYmi/csh",
      "include_colab_link": true
    },
    "kernelspec": {
      "name": "python3",
      "display_name": "Python 3"
    },
    "language_info": {
      "name": "python"
    }
  },
  "cells": [
    {
      "cell_type": "markdown",
      "metadata": {
        "id": "view-in-github",
        "colab_type": "text"
      },
      "source": [
        "<a href=\"https://colab.research.google.com/github/Juliana001/lia1_2024_1/blob/main/Entregas%20-%20Juliana%20Rocha/tarefa_aula_17_04.ipynb\" target=\"_parent\"><img src=\"https://colab.research.google.com/assets/colab-badge.svg\" alt=\"Open In Colab\"/></a>"
      ]
    },
    {
      "cell_type": "markdown",
      "source": [],
      "metadata": {
        "id": "uf1lRxl8WV3c"
      }
    },
    {
      "cell_type": "markdown",
      "source": [
        "<hr>\n",
        "<div class=\"container\">\n",
        "    <img src='https://veja.abril.com.br/wp-content/uploads/2023/04/2836-Geral-Intelige%CC%82ncia-Artificial2.jpg?quality=90&strip=info&w=720&h=440&crop=1' align='left' width='180'  height='200' />\n",
        "</div>\n",
        "\n",
        "<h1>Laboratório de Inovação e Automação 1 (LIA 1)</h1>\n",
        "\t<div>  2024/1 | 24M34 | Sala 200 CAE</ </div>\n",
        "<hr>\n",
        "\n",
        "/<h2> Projeto para entrega aula 17/04 - Colab </h2>\n",
        "Notebook desenvolvido por: <a href=\"http://lattes.cnpq.br/4885240677233306\"> Juliana do Nascimento Rocha</a>\n",
        "\n",
        "<hr>\n",
        "\n",
        "```\n",
        "# Isto está formatado como código\n",
        "```"
      ],
      "metadata": {
        "id": "7WkSxqCqWXMq"
      }
    },
    {
      "cell_type": "code",
      "execution_count": 1,
      "metadata": {
        "id": "QJvxO8B4FXxE"
      },
      "outputs": [],
      "source": [
        "# Imports\n",
        "import numpy as np\n",
        "import pandas as pd\n",
        "import matplotlib.pyplot as plt\n",
        "import seaborn as sns\n",
        "import datetime as dt"
      ]
    },
    {
      "cell_type": "code",
      "source": [
        "df_ss = pd.read_csv('/content/drive/MyDrive/Aula 17 04/cursos-presencial-graduacao - cursos-presencial-graduacao.csv')"
      ],
      "metadata": {
        "id": "erScAMMQF26J"
      },
      "execution_count": 2,
      "outputs": []
    },
    {
      "cell_type": "code",
      "source": [
        "# Shape\n",
        "df_ss.shape"
      ],
      "metadata": {
        "colab": {
          "base_uri": "https://localhost:8080/"
        },
        "id": "5To5TN_uMyzL",
        "outputId": "90d44987-504d-431f-bd4e-f0e27a616a6a"
      },
      "execution_count": 3,
      "outputs": [
        {
          "output_type": "execute_result",
          "data": {
            "text/plain": [
              "(78, 6)"
            ]
          },
          "metadata": {},
          "execution_count": 3
        }
      ]
    },
    {
      "cell_type": "code",
      "source": [
        "# Amostra dos dados\n",
        "df_ss.head()"
      ],
      "metadata": {
        "colab": {
          "base_uri": "https://localhost:8080/",
          "height": 206
        },
        "id": "G4ncnkq9M3NK",
        "outputId": "14047261-c640-48f5-8130-e727f79a902f"
      },
      "execution_count": 4,
      "outputs": [
        {
          "output_type": "execute_result",
          "data": {
            "text/plain": [
              "   Codigo E-mec                                              Curso     Turno  \\\n",
              "0       1322751                       Bacharelado em Administração  Matutino   \n",
              "1        115084                       Bacharelado em Administração   Noturno   \n",
              "2        115102                        Bacharelado em Agroecologia  Matutino   \n",
              "3           634  Bacharelado em Biblioteconomia e Ciência da In...   Noturno   \n",
              "4        115104                       Bacharelado em Biotecnologia  Matutino   \n",
              "\n",
              "   Modalidade  Vagas         Campus  \n",
              "0  Presencial     50  Lagoa do Sino  \n",
              "1  Presencial     60       Sorocaba  \n",
              "2  Presencial     40         Araras  \n",
              "3  Presencial     48     São Carlos  \n",
              "4  Presencial     40     São Carlos  "
            ],
            "text/html": [
              "\n",
              "  <div id=\"df-d09475a1-7f07-4817-893f-d04cad5a59fe\" class=\"colab-df-container\">\n",
              "    <div>\n",
              "<style scoped>\n",
              "    .dataframe tbody tr th:only-of-type {\n",
              "        vertical-align: middle;\n",
              "    }\n",
              "\n",
              "    .dataframe tbody tr th {\n",
              "        vertical-align: top;\n",
              "    }\n",
              "\n",
              "    .dataframe thead th {\n",
              "        text-align: right;\n",
              "    }\n",
              "</style>\n",
              "<table border=\"1\" class=\"dataframe\">\n",
              "  <thead>\n",
              "    <tr style=\"text-align: right;\">\n",
              "      <th></th>\n",
              "      <th>Codigo E-mec</th>\n",
              "      <th>Curso</th>\n",
              "      <th>Turno</th>\n",
              "      <th>Modalidade</th>\n",
              "      <th>Vagas</th>\n",
              "      <th>Campus</th>\n",
              "    </tr>\n",
              "  </thead>\n",
              "  <tbody>\n",
              "    <tr>\n",
              "      <th>0</th>\n",
              "      <td>1322751</td>\n",
              "      <td>Bacharelado em Administração</td>\n",
              "      <td>Matutino</td>\n",
              "      <td>Presencial</td>\n",
              "      <td>50</td>\n",
              "      <td>Lagoa do Sino</td>\n",
              "    </tr>\n",
              "    <tr>\n",
              "      <th>1</th>\n",
              "      <td>115084</td>\n",
              "      <td>Bacharelado em Administração</td>\n",
              "      <td>Noturno</td>\n",
              "      <td>Presencial</td>\n",
              "      <td>60</td>\n",
              "      <td>Sorocaba</td>\n",
              "    </tr>\n",
              "    <tr>\n",
              "      <th>2</th>\n",
              "      <td>115102</td>\n",
              "      <td>Bacharelado em Agroecologia</td>\n",
              "      <td>Matutino</td>\n",
              "      <td>Presencial</td>\n",
              "      <td>40</td>\n",
              "      <td>Araras</td>\n",
              "    </tr>\n",
              "    <tr>\n",
              "      <th>3</th>\n",
              "      <td>634</td>\n",
              "      <td>Bacharelado em Biblioteconomia e Ciência da In...</td>\n",
              "      <td>Noturno</td>\n",
              "      <td>Presencial</td>\n",
              "      <td>48</td>\n",
              "      <td>São Carlos</td>\n",
              "    </tr>\n",
              "    <tr>\n",
              "      <th>4</th>\n",
              "      <td>115104</td>\n",
              "      <td>Bacharelado em Biotecnologia</td>\n",
              "      <td>Matutino</td>\n",
              "      <td>Presencial</td>\n",
              "      <td>40</td>\n",
              "      <td>São Carlos</td>\n",
              "    </tr>\n",
              "  </tbody>\n",
              "</table>\n",
              "</div>\n",
              "    <div class=\"colab-df-buttons\">\n",
              "\n",
              "  <div class=\"colab-df-container\">\n",
              "    <button class=\"colab-df-convert\" onclick=\"convertToInteractive('df-d09475a1-7f07-4817-893f-d04cad5a59fe')\"\n",
              "            title=\"Convert this dataframe to an interactive table.\"\n",
              "            style=\"display:none;\">\n",
              "\n",
              "  <svg xmlns=\"http://www.w3.org/2000/svg\" height=\"24px\" viewBox=\"0 -960 960 960\">\n",
              "    <path d=\"M120-120v-720h720v720H120Zm60-500h600v-160H180v160Zm220 220h160v-160H400v160Zm0 220h160v-160H400v160ZM180-400h160v-160H180v160Zm440 0h160v-160H620v160ZM180-180h160v-160H180v160Zm440 0h160v-160H620v160Z\"/>\n",
              "  </svg>\n",
              "    </button>\n",
              "\n",
              "  <style>\n",
              "    .colab-df-container {\n",
              "      display:flex;\n",
              "      gap: 12px;\n",
              "    }\n",
              "\n",
              "    .colab-df-convert {\n",
              "      background-color: #E8F0FE;\n",
              "      border: none;\n",
              "      border-radius: 50%;\n",
              "      cursor: pointer;\n",
              "      display: none;\n",
              "      fill: #1967D2;\n",
              "      height: 32px;\n",
              "      padding: 0 0 0 0;\n",
              "      width: 32px;\n",
              "    }\n",
              "\n",
              "    .colab-df-convert:hover {\n",
              "      background-color: #E2EBFA;\n",
              "      box-shadow: 0px 1px 2px rgba(60, 64, 67, 0.3), 0px 1px 3px 1px rgba(60, 64, 67, 0.15);\n",
              "      fill: #174EA6;\n",
              "    }\n",
              "\n",
              "    .colab-df-buttons div {\n",
              "      margin-bottom: 4px;\n",
              "    }\n",
              "\n",
              "    [theme=dark] .colab-df-convert {\n",
              "      background-color: #3B4455;\n",
              "      fill: #D2E3FC;\n",
              "    }\n",
              "\n",
              "    [theme=dark] .colab-df-convert:hover {\n",
              "      background-color: #434B5C;\n",
              "      box-shadow: 0px 1px 3px 1px rgba(0, 0, 0, 0.15);\n",
              "      filter: drop-shadow(0px 1px 2px rgba(0, 0, 0, 0.3));\n",
              "      fill: #FFFFFF;\n",
              "    }\n",
              "  </style>\n",
              "\n",
              "    <script>\n",
              "      const buttonEl =\n",
              "        document.querySelector('#df-d09475a1-7f07-4817-893f-d04cad5a59fe button.colab-df-convert');\n",
              "      buttonEl.style.display =\n",
              "        google.colab.kernel.accessAllowed ? 'block' : 'none';\n",
              "\n",
              "      async function convertToInteractive(key) {\n",
              "        const element = document.querySelector('#df-d09475a1-7f07-4817-893f-d04cad5a59fe');\n",
              "        const dataTable =\n",
              "          await google.colab.kernel.invokeFunction('convertToInteractive',\n",
              "                                                    [key], {});\n",
              "        if (!dataTable) return;\n",
              "\n",
              "        const docLinkHtml = 'Like what you see? Visit the ' +\n",
              "          '<a target=\"_blank\" href=https://colab.research.google.com/notebooks/data_table.ipynb>data table notebook</a>'\n",
              "          + ' to learn more about interactive tables.';\n",
              "        element.innerHTML = '';\n",
              "        dataTable['output_type'] = 'display_data';\n",
              "        await google.colab.output.renderOutput(dataTable, element);\n",
              "        const docLink = document.createElement('div');\n",
              "        docLink.innerHTML = docLinkHtml;\n",
              "        element.appendChild(docLink);\n",
              "      }\n",
              "    </script>\n",
              "  </div>\n",
              "\n",
              "\n",
              "<div id=\"df-ec8ee748-915b-4eda-b172-5c6f865ab14f\">\n",
              "  <button class=\"colab-df-quickchart\" onclick=\"quickchart('df-ec8ee748-915b-4eda-b172-5c6f865ab14f')\"\n",
              "            title=\"Suggest charts\"\n",
              "            style=\"display:none;\">\n",
              "\n",
              "<svg xmlns=\"http://www.w3.org/2000/svg\" height=\"24px\"viewBox=\"0 0 24 24\"\n",
              "     width=\"24px\">\n",
              "    <g>\n",
              "        <path d=\"M19 3H5c-1.1 0-2 .9-2 2v14c0 1.1.9 2 2 2h14c1.1 0 2-.9 2-2V5c0-1.1-.9-2-2-2zM9 17H7v-7h2v7zm4 0h-2V7h2v10zm4 0h-2v-4h2v4z\"/>\n",
              "    </g>\n",
              "</svg>\n",
              "  </button>\n",
              "\n",
              "<style>\n",
              "  .colab-df-quickchart {\n",
              "      --bg-color: #E8F0FE;\n",
              "      --fill-color: #1967D2;\n",
              "      --hover-bg-color: #E2EBFA;\n",
              "      --hover-fill-color: #174EA6;\n",
              "      --disabled-fill-color: #AAA;\n",
              "      --disabled-bg-color: #DDD;\n",
              "  }\n",
              "\n",
              "  [theme=dark] .colab-df-quickchart {\n",
              "      --bg-color: #3B4455;\n",
              "      --fill-color: #D2E3FC;\n",
              "      --hover-bg-color: #434B5C;\n",
              "      --hover-fill-color: #FFFFFF;\n",
              "      --disabled-bg-color: #3B4455;\n",
              "      --disabled-fill-color: #666;\n",
              "  }\n",
              "\n",
              "  .colab-df-quickchart {\n",
              "    background-color: var(--bg-color);\n",
              "    border: none;\n",
              "    border-radius: 50%;\n",
              "    cursor: pointer;\n",
              "    display: none;\n",
              "    fill: var(--fill-color);\n",
              "    height: 32px;\n",
              "    padding: 0;\n",
              "    width: 32px;\n",
              "  }\n",
              "\n",
              "  .colab-df-quickchart:hover {\n",
              "    background-color: var(--hover-bg-color);\n",
              "    box-shadow: 0 1px 2px rgba(60, 64, 67, 0.3), 0 1px 3px 1px rgba(60, 64, 67, 0.15);\n",
              "    fill: var(--button-hover-fill-color);\n",
              "  }\n",
              "\n",
              "  .colab-df-quickchart-complete:disabled,\n",
              "  .colab-df-quickchart-complete:disabled:hover {\n",
              "    background-color: var(--disabled-bg-color);\n",
              "    fill: var(--disabled-fill-color);\n",
              "    box-shadow: none;\n",
              "  }\n",
              "\n",
              "  .colab-df-spinner {\n",
              "    border: 2px solid var(--fill-color);\n",
              "    border-color: transparent;\n",
              "    border-bottom-color: var(--fill-color);\n",
              "    animation:\n",
              "      spin 1s steps(1) infinite;\n",
              "  }\n",
              "\n",
              "  @keyframes spin {\n",
              "    0% {\n",
              "      border-color: transparent;\n",
              "      border-bottom-color: var(--fill-color);\n",
              "      border-left-color: var(--fill-color);\n",
              "    }\n",
              "    20% {\n",
              "      border-color: transparent;\n",
              "      border-left-color: var(--fill-color);\n",
              "      border-top-color: var(--fill-color);\n",
              "    }\n",
              "    30% {\n",
              "      border-color: transparent;\n",
              "      border-left-color: var(--fill-color);\n",
              "      border-top-color: var(--fill-color);\n",
              "      border-right-color: var(--fill-color);\n",
              "    }\n",
              "    40% {\n",
              "      border-color: transparent;\n",
              "      border-right-color: var(--fill-color);\n",
              "      border-top-color: var(--fill-color);\n",
              "    }\n",
              "    60% {\n",
              "      border-color: transparent;\n",
              "      border-right-color: var(--fill-color);\n",
              "    }\n",
              "    80% {\n",
              "      border-color: transparent;\n",
              "      border-right-color: var(--fill-color);\n",
              "      border-bottom-color: var(--fill-color);\n",
              "    }\n",
              "    90% {\n",
              "      border-color: transparent;\n",
              "      border-bottom-color: var(--fill-color);\n",
              "    }\n",
              "  }\n",
              "</style>\n",
              "\n",
              "  <script>\n",
              "    async function quickchart(key) {\n",
              "      const quickchartButtonEl =\n",
              "        document.querySelector('#' + key + ' button');\n",
              "      quickchartButtonEl.disabled = true;  // To prevent multiple clicks.\n",
              "      quickchartButtonEl.classList.add('colab-df-spinner');\n",
              "      try {\n",
              "        const charts = await google.colab.kernel.invokeFunction(\n",
              "            'suggestCharts', [key], {});\n",
              "      } catch (error) {\n",
              "        console.error('Error during call to suggestCharts:', error);\n",
              "      }\n",
              "      quickchartButtonEl.classList.remove('colab-df-spinner');\n",
              "      quickchartButtonEl.classList.add('colab-df-quickchart-complete');\n",
              "    }\n",
              "    (() => {\n",
              "      let quickchartButtonEl =\n",
              "        document.querySelector('#df-ec8ee748-915b-4eda-b172-5c6f865ab14f button');\n",
              "      quickchartButtonEl.style.display =\n",
              "        google.colab.kernel.accessAllowed ? 'block' : 'none';\n",
              "    })();\n",
              "  </script>\n",
              "</div>\n",
              "\n",
              "    </div>\n",
              "  </div>\n"
            ],
            "application/vnd.google.colaboratory.intrinsic+json": {
              "type": "dataframe",
              "variable_name": "df_ss",
              "summary": "{\n  \"name\": \"df_ss\",\n  \"rows\": 78,\n  \"fields\": [\n    {\n      \"column\": \"Codigo E-mec\",\n      \"properties\": {\n        \"dtype\": \"number\",\n        \"std\": 1334597,\n        \"min\": 99,\n        \"max\": 5000889,\n        \"num_unique_values\": 70,\n        \"samples\": [\n          1270505,\n          1322751,\n          5000589\n        ],\n        \"semantic_type\": \"\",\n        \"description\": \"\"\n      }\n    },\n    {\n      \"column\": \"Curso\",\n      \"properties\": {\n        \"dtype\": \"string\",\n        \"num_unique_values\": 53,\n        \"samples\": [\n          \"Bacharelado em Engenharia de Produ\\u00e7\\u00e3o\",\n          \"Licenciatura em M\\u00fasica\",\n          \"Bacharelado em Tradu\\u00e7\\u00e3o e Interpreta\\u00e7\\u00e3o em L\\u00edngua Brasileira de Sinais-Libras/L\\u00edngua Portuguesa\"\n        ],\n        \"semantic_type\": \"\",\n        \"description\": \"\"\n      }\n    },\n    {\n      \"column\": \"Turno\",\n      \"properties\": {\n        \"dtype\": \"category\",\n        \"num_unique_values\": 3,\n        \"samples\": [\n          \"Matutino\",\n          \"Noturno\",\n          \"Integral\"\n        ],\n        \"semantic_type\": \"\",\n        \"description\": \"\"\n      }\n    },\n    {\n      \"column\": \"Modalidade\",\n      \"properties\": {\n        \"dtype\": \"category\",\n        \"num_unique_values\": 2,\n        \"samples\": [\n          \"EAD\",\n          \"Presencial\"\n        ],\n        \"semantic_type\": \"\",\n        \"description\": \"\"\n      }\n    },\n    {\n      \"column\": \"Vagas\",\n      \"properties\": {\n        \"dtype\": \"number\",\n        \"std\": 71,\n        \"min\": 18,\n        \"max\": 600,\n        \"num_unique_values\": 19,\n        \"samples\": [\n          50,\n          25\n        ],\n        \"semantic_type\": \"\",\n        \"description\": \"\"\n      }\n    },\n    {\n      \"column\": \"Campus\",\n      \"properties\": {\n        \"dtype\": \"category\",\n        \"num_unique_values\": 5,\n        \"samples\": [\n          \"Sorocaba\",\n          \"EAD\"\n        ],\n        \"semantic_type\": \"\",\n        \"description\": \"\"\n      }\n    }\n  ]\n}"
            }
          },
          "metadata": {},
          "execution_count": 4
        }
      ]
    },
    {
      "cell_type": "code",
      "source": [
        "# Amostra dos dados\n",
        "df_ss.tail()"
      ],
      "metadata": {
        "colab": {
          "base_uri": "https://localhost:8080/",
          "height": 206
        },
        "id": "YrMnn2plM8mq",
        "outputId": "f3294c0d-650d-40e8-c8fc-ab6127268517"
      },
      "execution_count": 5,
      "outputs": [
        {
          "output_type": "execute_result",
          "data": {
            "text/plain": [
              "    Codigo E-mec                                              Curso     Turno  \\\n",
              "73        109378                Bacharelado em Engenharia Ambiental  Matutino   \n",
              "74        109353                          Licenciatura em Pedagogia  Matutino   \n",
              "75            99  Licenciatura em Segunda Licenciatura em Educaç...  Matutino   \n",
              "76        108016              Bacharelado em Sistemas de Informação  Matutino   \n",
              "77        109341  Bacharelado em Superior de Tecnologia em Produ...  Matutino   \n",
              "\n",
              "   Modalidade  Vagas Campus  \n",
              "73        EAD    150    EAD  \n",
              "74        EAD    210    EAD  \n",
              "75        EAD    600    EAD  \n",
              "76        EAD    150    EAD  \n",
              "77        EAD    125    EAD  "
            ],
            "text/html": [
              "\n",
              "  <div id=\"df-e3e032df-a784-4818-8857-06ae5f76a2d6\" class=\"colab-df-container\">\n",
              "    <div>\n",
              "<style scoped>\n",
              "    .dataframe tbody tr th:only-of-type {\n",
              "        vertical-align: middle;\n",
              "    }\n",
              "\n",
              "    .dataframe tbody tr th {\n",
              "        vertical-align: top;\n",
              "    }\n",
              "\n",
              "    .dataframe thead th {\n",
              "        text-align: right;\n",
              "    }\n",
              "</style>\n",
              "<table border=\"1\" class=\"dataframe\">\n",
              "  <thead>\n",
              "    <tr style=\"text-align: right;\">\n",
              "      <th></th>\n",
              "      <th>Codigo E-mec</th>\n",
              "      <th>Curso</th>\n",
              "      <th>Turno</th>\n",
              "      <th>Modalidade</th>\n",
              "      <th>Vagas</th>\n",
              "      <th>Campus</th>\n",
              "    </tr>\n",
              "  </thead>\n",
              "  <tbody>\n",
              "    <tr>\n",
              "      <th>73</th>\n",
              "      <td>109378</td>\n",
              "      <td>Bacharelado em Engenharia Ambiental</td>\n",
              "      <td>Matutino</td>\n",
              "      <td>EAD</td>\n",
              "      <td>150</td>\n",
              "      <td>EAD</td>\n",
              "    </tr>\n",
              "    <tr>\n",
              "      <th>74</th>\n",
              "      <td>109353</td>\n",
              "      <td>Licenciatura em Pedagogia</td>\n",
              "      <td>Matutino</td>\n",
              "      <td>EAD</td>\n",
              "      <td>210</td>\n",
              "      <td>EAD</td>\n",
              "    </tr>\n",
              "    <tr>\n",
              "      <th>75</th>\n",
              "      <td>99</td>\n",
              "      <td>Licenciatura em Segunda Licenciatura em Educaç...</td>\n",
              "      <td>Matutino</td>\n",
              "      <td>EAD</td>\n",
              "      <td>600</td>\n",
              "      <td>EAD</td>\n",
              "    </tr>\n",
              "    <tr>\n",
              "      <th>76</th>\n",
              "      <td>108016</td>\n",
              "      <td>Bacharelado em Sistemas de Informação</td>\n",
              "      <td>Matutino</td>\n",
              "      <td>EAD</td>\n",
              "      <td>150</td>\n",
              "      <td>EAD</td>\n",
              "    </tr>\n",
              "    <tr>\n",
              "      <th>77</th>\n",
              "      <td>109341</td>\n",
              "      <td>Bacharelado em Superior de Tecnologia em Produ...</td>\n",
              "      <td>Matutino</td>\n",
              "      <td>EAD</td>\n",
              "      <td>125</td>\n",
              "      <td>EAD</td>\n",
              "    </tr>\n",
              "  </tbody>\n",
              "</table>\n",
              "</div>\n",
              "    <div class=\"colab-df-buttons\">\n",
              "\n",
              "  <div class=\"colab-df-container\">\n",
              "    <button class=\"colab-df-convert\" onclick=\"convertToInteractive('df-e3e032df-a784-4818-8857-06ae5f76a2d6')\"\n",
              "            title=\"Convert this dataframe to an interactive table.\"\n",
              "            style=\"display:none;\">\n",
              "\n",
              "  <svg xmlns=\"http://www.w3.org/2000/svg\" height=\"24px\" viewBox=\"0 -960 960 960\">\n",
              "    <path d=\"M120-120v-720h720v720H120Zm60-500h600v-160H180v160Zm220 220h160v-160H400v160Zm0 220h160v-160H400v160ZM180-400h160v-160H180v160Zm440 0h160v-160H620v160ZM180-180h160v-160H180v160Zm440 0h160v-160H620v160Z\"/>\n",
              "  </svg>\n",
              "    </button>\n",
              "\n",
              "  <style>\n",
              "    .colab-df-container {\n",
              "      display:flex;\n",
              "      gap: 12px;\n",
              "    }\n",
              "\n",
              "    .colab-df-convert {\n",
              "      background-color: #E8F0FE;\n",
              "      border: none;\n",
              "      border-radius: 50%;\n",
              "      cursor: pointer;\n",
              "      display: none;\n",
              "      fill: #1967D2;\n",
              "      height: 32px;\n",
              "      padding: 0 0 0 0;\n",
              "      width: 32px;\n",
              "    }\n",
              "\n",
              "    .colab-df-convert:hover {\n",
              "      background-color: #E2EBFA;\n",
              "      box-shadow: 0px 1px 2px rgba(60, 64, 67, 0.3), 0px 1px 3px 1px rgba(60, 64, 67, 0.15);\n",
              "      fill: #174EA6;\n",
              "    }\n",
              "\n",
              "    .colab-df-buttons div {\n",
              "      margin-bottom: 4px;\n",
              "    }\n",
              "\n",
              "    [theme=dark] .colab-df-convert {\n",
              "      background-color: #3B4455;\n",
              "      fill: #D2E3FC;\n",
              "    }\n",
              "\n",
              "    [theme=dark] .colab-df-convert:hover {\n",
              "      background-color: #434B5C;\n",
              "      box-shadow: 0px 1px 3px 1px rgba(0, 0, 0, 0.15);\n",
              "      filter: drop-shadow(0px 1px 2px rgba(0, 0, 0, 0.3));\n",
              "      fill: #FFFFFF;\n",
              "    }\n",
              "  </style>\n",
              "\n",
              "    <script>\n",
              "      const buttonEl =\n",
              "        document.querySelector('#df-e3e032df-a784-4818-8857-06ae5f76a2d6 button.colab-df-convert');\n",
              "      buttonEl.style.display =\n",
              "        google.colab.kernel.accessAllowed ? 'block' : 'none';\n",
              "\n",
              "      async function convertToInteractive(key) {\n",
              "        const element = document.querySelector('#df-e3e032df-a784-4818-8857-06ae5f76a2d6');\n",
              "        const dataTable =\n",
              "          await google.colab.kernel.invokeFunction('convertToInteractive',\n",
              "                                                    [key], {});\n",
              "        if (!dataTable) return;\n",
              "\n",
              "        const docLinkHtml = 'Like what you see? Visit the ' +\n",
              "          '<a target=\"_blank\" href=https://colab.research.google.com/notebooks/data_table.ipynb>data table notebook</a>'\n",
              "          + ' to learn more about interactive tables.';\n",
              "        element.innerHTML = '';\n",
              "        dataTable['output_type'] = 'display_data';\n",
              "        await google.colab.output.renderOutput(dataTable, element);\n",
              "        const docLink = document.createElement('div');\n",
              "        docLink.innerHTML = docLinkHtml;\n",
              "        element.appendChild(docLink);\n",
              "      }\n",
              "    </script>\n",
              "  </div>\n",
              "\n",
              "\n",
              "<div id=\"df-0443e298-f305-4d1e-b49d-5ec6b4962aa7\">\n",
              "  <button class=\"colab-df-quickchart\" onclick=\"quickchart('df-0443e298-f305-4d1e-b49d-5ec6b4962aa7')\"\n",
              "            title=\"Suggest charts\"\n",
              "            style=\"display:none;\">\n",
              "\n",
              "<svg xmlns=\"http://www.w3.org/2000/svg\" height=\"24px\"viewBox=\"0 0 24 24\"\n",
              "     width=\"24px\">\n",
              "    <g>\n",
              "        <path d=\"M19 3H5c-1.1 0-2 .9-2 2v14c0 1.1.9 2 2 2h14c1.1 0 2-.9 2-2V5c0-1.1-.9-2-2-2zM9 17H7v-7h2v7zm4 0h-2V7h2v10zm4 0h-2v-4h2v4z\"/>\n",
              "    </g>\n",
              "</svg>\n",
              "  </button>\n",
              "\n",
              "<style>\n",
              "  .colab-df-quickchart {\n",
              "      --bg-color: #E8F0FE;\n",
              "      --fill-color: #1967D2;\n",
              "      --hover-bg-color: #E2EBFA;\n",
              "      --hover-fill-color: #174EA6;\n",
              "      --disabled-fill-color: #AAA;\n",
              "      --disabled-bg-color: #DDD;\n",
              "  }\n",
              "\n",
              "  [theme=dark] .colab-df-quickchart {\n",
              "      --bg-color: #3B4455;\n",
              "      --fill-color: #D2E3FC;\n",
              "      --hover-bg-color: #434B5C;\n",
              "      --hover-fill-color: #FFFFFF;\n",
              "      --disabled-bg-color: #3B4455;\n",
              "      --disabled-fill-color: #666;\n",
              "  }\n",
              "\n",
              "  .colab-df-quickchart {\n",
              "    background-color: var(--bg-color);\n",
              "    border: none;\n",
              "    border-radius: 50%;\n",
              "    cursor: pointer;\n",
              "    display: none;\n",
              "    fill: var(--fill-color);\n",
              "    height: 32px;\n",
              "    padding: 0;\n",
              "    width: 32px;\n",
              "  }\n",
              "\n",
              "  .colab-df-quickchart:hover {\n",
              "    background-color: var(--hover-bg-color);\n",
              "    box-shadow: 0 1px 2px rgba(60, 64, 67, 0.3), 0 1px 3px 1px rgba(60, 64, 67, 0.15);\n",
              "    fill: var(--button-hover-fill-color);\n",
              "  }\n",
              "\n",
              "  .colab-df-quickchart-complete:disabled,\n",
              "  .colab-df-quickchart-complete:disabled:hover {\n",
              "    background-color: var(--disabled-bg-color);\n",
              "    fill: var(--disabled-fill-color);\n",
              "    box-shadow: none;\n",
              "  }\n",
              "\n",
              "  .colab-df-spinner {\n",
              "    border: 2px solid var(--fill-color);\n",
              "    border-color: transparent;\n",
              "    border-bottom-color: var(--fill-color);\n",
              "    animation:\n",
              "      spin 1s steps(1) infinite;\n",
              "  }\n",
              "\n",
              "  @keyframes spin {\n",
              "    0% {\n",
              "      border-color: transparent;\n",
              "      border-bottom-color: var(--fill-color);\n",
              "      border-left-color: var(--fill-color);\n",
              "    }\n",
              "    20% {\n",
              "      border-color: transparent;\n",
              "      border-left-color: var(--fill-color);\n",
              "      border-top-color: var(--fill-color);\n",
              "    }\n",
              "    30% {\n",
              "      border-color: transparent;\n",
              "      border-left-color: var(--fill-color);\n",
              "      border-top-color: var(--fill-color);\n",
              "      border-right-color: var(--fill-color);\n",
              "    }\n",
              "    40% {\n",
              "      border-color: transparent;\n",
              "      border-right-color: var(--fill-color);\n",
              "      border-top-color: var(--fill-color);\n",
              "    }\n",
              "    60% {\n",
              "      border-color: transparent;\n",
              "      border-right-color: var(--fill-color);\n",
              "    }\n",
              "    80% {\n",
              "      border-color: transparent;\n",
              "      border-right-color: var(--fill-color);\n",
              "      border-bottom-color: var(--fill-color);\n",
              "    }\n",
              "    90% {\n",
              "      border-color: transparent;\n",
              "      border-bottom-color: var(--fill-color);\n",
              "    }\n",
              "  }\n",
              "</style>\n",
              "\n",
              "  <script>\n",
              "    async function quickchart(key) {\n",
              "      const quickchartButtonEl =\n",
              "        document.querySelector('#' + key + ' button');\n",
              "      quickchartButtonEl.disabled = true;  // To prevent multiple clicks.\n",
              "      quickchartButtonEl.classList.add('colab-df-spinner');\n",
              "      try {\n",
              "        const charts = await google.colab.kernel.invokeFunction(\n",
              "            'suggestCharts', [key], {});\n",
              "      } catch (error) {\n",
              "        console.error('Error during call to suggestCharts:', error);\n",
              "      }\n",
              "      quickchartButtonEl.classList.remove('colab-df-spinner');\n",
              "      quickchartButtonEl.classList.add('colab-df-quickchart-complete');\n",
              "    }\n",
              "    (() => {\n",
              "      let quickchartButtonEl =\n",
              "        document.querySelector('#df-0443e298-f305-4d1e-b49d-5ec6b4962aa7 button');\n",
              "      quickchartButtonEl.style.display =\n",
              "        google.colab.kernel.accessAllowed ? 'block' : 'none';\n",
              "    })();\n",
              "  </script>\n",
              "</div>\n",
              "\n",
              "    </div>\n",
              "  </div>\n"
            ],
            "application/vnd.google.colaboratory.intrinsic+json": {
              "type": "dataframe",
              "summary": "{\n  \"name\": \"df_ss\",\n  \"rows\": 5,\n  \"fields\": [\n    {\n      \"column\": \"Codigo E-mec\",\n      \"properties\": {\n        \"dtype\": \"number\",\n        \"std\": 48715,\n        \"min\": 99,\n        \"max\": 109378,\n        \"num_unique_values\": 5,\n        \"samples\": [\n          109353,\n          109341,\n          99\n        ],\n        \"semantic_type\": \"\",\n        \"description\": \"\"\n      }\n    },\n    {\n      \"column\": \"Curso\",\n      \"properties\": {\n        \"dtype\": \"string\",\n        \"num_unique_values\": 5,\n        \"samples\": [\n          \"Licenciatura em Pedagogia\",\n          \"Bacharelado em Superior de Tecnologia em Produ\\u00e7\\u00e3o Sucroalcooleira\",\n          \"Licenciatura em Segunda Licenciatura em Educa\\u00e7\\u00e3o Especial\"\n        ],\n        \"semantic_type\": \"\",\n        \"description\": \"\"\n      }\n    },\n    {\n      \"column\": \"Turno\",\n      \"properties\": {\n        \"dtype\": \"category\",\n        \"num_unique_values\": 1,\n        \"samples\": [\n          \"Matutino\"\n        ],\n        \"semantic_type\": \"\",\n        \"description\": \"\"\n      }\n    },\n    {\n      \"column\": \"Modalidade\",\n      \"properties\": {\n        \"dtype\": \"category\",\n        \"num_unique_values\": 1,\n        \"samples\": [\n          \"EAD\"\n        ],\n        \"semantic_type\": \"\",\n        \"description\": \"\"\n      }\n    },\n    {\n      \"column\": \"Vagas\",\n      \"properties\": {\n        \"dtype\": \"number\",\n        \"std\": 199,\n        \"min\": 125,\n        \"max\": 600,\n        \"num_unique_values\": 4,\n        \"samples\": [\n          210\n        ],\n        \"semantic_type\": \"\",\n        \"description\": \"\"\n      }\n    },\n    {\n      \"column\": \"Campus\",\n      \"properties\": {\n        \"dtype\": \"category\",\n        \"num_unique_values\": 1,\n        \"samples\": [\n          \"EAD\"\n        ],\n        \"semantic_type\": \"\",\n        \"description\": \"\"\n      }\n    }\n  ]\n}"
            }
          },
          "metadata": {},
          "execution_count": 5
        }
      ]
    },
    {
      "cell_type": "code",
      "source": [
        "# Colunas do conjunto de dados\n",
        "df_ss.columns"
      ],
      "metadata": {
        "colab": {
          "base_uri": "https://localhost:8080/"
        },
        "id": "FJE9Fhe-NAAa",
        "outputId": "fecb22a0-a70c-408b-f839-fb285351a2c1"
      },
      "execution_count": 6,
      "outputs": [
        {
          "output_type": "execute_result",
          "data": {
            "text/plain": [
              "Index(['Codigo E-mec', 'Curso', 'Turno', 'Modalidade', 'Vagas', 'Campus'], dtype='object')"
            ]
          },
          "metadata": {},
          "execution_count": 6
        }
      ]
    },
    {
      "cell_type": "code",
      "source": [
        "# Verificando o tipo de dado de cada coluna\n",
        "df_ss.dtypes"
      ],
      "metadata": {
        "colab": {
          "base_uri": "https://localhost:8080/"
        },
        "id": "yTWvZeJoNEZZ",
        "outputId": "1466b05a-bf43-4d56-843d-d605ca10710f"
      },
      "execution_count": 7,
      "outputs": [
        {
          "output_type": "execute_result",
          "data": {
            "text/plain": [
              "Codigo E-mec     int64\n",
              "Curso           object\n",
              "Turno           object\n",
              "Modalidade      object\n",
              "Vagas            int64\n",
              "Campus          object\n",
              "dtype: object"
            ]
          },
          "metadata": {},
          "execution_count": 7
        }
      ]
    },
    {
      "cell_type": "code",
      "source": [
        "# Resumo estatístico da coluna com as Vagas\n",
        "df_ss['Vagas'].describe()"
      ],
      "metadata": {
        "colab": {
          "base_uri": "https://localhost:8080/"
        },
        "id": "G34MM83FNHJa",
        "outputId": "541e717d-1845-4ab8-e0bd-e3b42517af30"
      },
      "execution_count": 8,
      "outputs": [
        {
          "output_type": "execute_result",
          "data": {
            "text/plain": [
              "count     78.000000\n",
              "mean      56.820513\n",
              "std       71.162471\n",
              "min       18.000000\n",
              "25%       30.000000\n",
              "50%       40.000000\n",
              "75%       60.000000\n",
              "max      600.000000\n",
              "Name: Vagas, dtype: float64"
            ]
          },
          "metadata": {},
          "execution_count": 8
        }
      ]
    },
    {
      "cell_type": "code",
      "source": [
        "# Verificando se há registros duplicados\n",
        "df_ss[df_ss.duplicated()]"
      ],
      "metadata": {
        "colab": {
          "base_uri": "https://localhost:8080/",
          "height": 53
        },
        "id": "QTxroGbINR8S",
        "outputId": "c0842b30-50b1-4dc7-c39d-6c0627a351d2"
      },
      "execution_count": 9,
      "outputs": [
        {
          "output_type": "execute_result",
          "data": {
            "text/plain": [
              "Empty DataFrame\n",
              "Columns: [Codigo E-mec, Curso, Turno, Modalidade, Vagas, Campus]\n",
              "Index: []"
            ],
            "text/html": [
              "\n",
              "  <div id=\"df-7381fa39-fabb-4e0c-b9bd-c790c99fb9ee\" class=\"colab-df-container\">\n",
              "    <div>\n",
              "<style scoped>\n",
              "    .dataframe tbody tr th:only-of-type {\n",
              "        vertical-align: middle;\n",
              "    }\n",
              "\n",
              "    .dataframe tbody tr th {\n",
              "        vertical-align: top;\n",
              "    }\n",
              "\n",
              "    .dataframe thead th {\n",
              "        text-align: right;\n",
              "    }\n",
              "</style>\n",
              "<table border=\"1\" class=\"dataframe\">\n",
              "  <thead>\n",
              "    <tr style=\"text-align: right;\">\n",
              "      <th></th>\n",
              "      <th>Codigo E-mec</th>\n",
              "      <th>Curso</th>\n",
              "      <th>Turno</th>\n",
              "      <th>Modalidade</th>\n",
              "      <th>Vagas</th>\n",
              "      <th>Campus</th>\n",
              "    </tr>\n",
              "  </thead>\n",
              "  <tbody>\n",
              "  </tbody>\n",
              "</table>\n",
              "</div>\n",
              "    <div class=\"colab-df-buttons\">\n",
              "\n",
              "  <div class=\"colab-df-container\">\n",
              "    <button class=\"colab-df-convert\" onclick=\"convertToInteractive('df-7381fa39-fabb-4e0c-b9bd-c790c99fb9ee')\"\n",
              "            title=\"Convert this dataframe to an interactive table.\"\n",
              "            style=\"display:none;\">\n",
              "\n",
              "  <svg xmlns=\"http://www.w3.org/2000/svg\" height=\"24px\" viewBox=\"0 -960 960 960\">\n",
              "    <path d=\"M120-120v-720h720v720H120Zm60-500h600v-160H180v160Zm220 220h160v-160H400v160Zm0 220h160v-160H400v160ZM180-400h160v-160H180v160Zm440 0h160v-160H620v160ZM180-180h160v-160H180v160Zm440 0h160v-160H620v160Z\"/>\n",
              "  </svg>\n",
              "    </button>\n",
              "\n",
              "  <style>\n",
              "    .colab-df-container {\n",
              "      display:flex;\n",
              "      gap: 12px;\n",
              "    }\n",
              "\n",
              "    .colab-df-convert {\n",
              "      background-color: #E8F0FE;\n",
              "      border: none;\n",
              "      border-radius: 50%;\n",
              "      cursor: pointer;\n",
              "      display: none;\n",
              "      fill: #1967D2;\n",
              "      height: 32px;\n",
              "      padding: 0 0 0 0;\n",
              "      width: 32px;\n",
              "    }\n",
              "\n",
              "    .colab-df-convert:hover {\n",
              "      background-color: #E2EBFA;\n",
              "      box-shadow: 0px 1px 2px rgba(60, 64, 67, 0.3), 0px 1px 3px 1px rgba(60, 64, 67, 0.15);\n",
              "      fill: #174EA6;\n",
              "    }\n",
              "\n",
              "    .colab-df-buttons div {\n",
              "      margin-bottom: 4px;\n",
              "    }\n",
              "\n",
              "    [theme=dark] .colab-df-convert {\n",
              "      background-color: #3B4455;\n",
              "      fill: #D2E3FC;\n",
              "    }\n",
              "\n",
              "    [theme=dark] .colab-df-convert:hover {\n",
              "      background-color: #434B5C;\n",
              "      box-shadow: 0px 1px 3px 1px rgba(0, 0, 0, 0.15);\n",
              "      filter: drop-shadow(0px 1px 2px rgba(0, 0, 0, 0.3));\n",
              "      fill: #FFFFFF;\n",
              "    }\n",
              "  </style>\n",
              "\n",
              "    <script>\n",
              "      const buttonEl =\n",
              "        document.querySelector('#df-7381fa39-fabb-4e0c-b9bd-c790c99fb9ee button.colab-df-convert');\n",
              "      buttonEl.style.display =\n",
              "        google.colab.kernel.accessAllowed ? 'block' : 'none';\n",
              "\n",
              "      async function convertToInteractive(key) {\n",
              "        const element = document.querySelector('#df-7381fa39-fabb-4e0c-b9bd-c790c99fb9ee');\n",
              "        const dataTable =\n",
              "          await google.colab.kernel.invokeFunction('convertToInteractive',\n",
              "                                                    [key], {});\n",
              "        if (!dataTable) return;\n",
              "\n",
              "        const docLinkHtml = 'Like what you see? Visit the ' +\n",
              "          '<a target=\"_blank\" href=https://colab.research.google.com/notebooks/data_table.ipynb>data table notebook</a>'\n",
              "          + ' to learn more about interactive tables.';\n",
              "        element.innerHTML = '';\n",
              "        dataTable['output_type'] = 'display_data';\n",
              "        await google.colab.output.renderOutput(dataTable, element);\n",
              "        const docLink = document.createElement('div');\n",
              "        docLink.innerHTML = docLinkHtml;\n",
              "        element.appendChild(docLink);\n",
              "      }\n",
              "    </script>\n",
              "  </div>\n",
              "\n",
              "\n",
              "    </div>\n",
              "  </div>\n"
            ],
            "application/vnd.google.colaboratory.intrinsic+json": {
              "type": "dataframe",
              "repr_error": "Out of range float values are not JSON compliant: nan"
            }
          },
          "metadata": {},
          "execution_count": 9
        }
      ]
    },
    {
      "cell_type": "code",
      "source": [
        "# Verificando de há valores ausentes\n",
        "df_ss.isnull().sum()"
      ],
      "metadata": {
        "colab": {
          "base_uri": "https://localhost:8080/"
        },
        "id": "iEvu150HNVT6",
        "outputId": "e3aa74b8-dd23-49cd-b332-37870b53e3e1"
      },
      "execution_count": 10,
      "outputs": [
        {
          "output_type": "execute_result",
          "data": {
            "text/plain": [
              "Codigo E-mec    0\n",
              "Curso           0\n",
              "Turno           0\n",
              "Modalidade      0\n",
              "Vagas           0\n",
              "Campus          0\n",
              "dtype: int64"
            ]
          },
          "metadata": {},
          "execution_count": 10
        }
      ]
    },
    {
      "cell_type": "markdown",
      "source": [
        "#1. Qual o curso com maior número de vagas?"
      ],
      "metadata": {
        "id": "lG1Ltaf1NizS"
      }
    },
    {
      "cell_type": "markdown",
      "source": [
        "<!-- #1 Qual é o curso com maior número de vagas da UFSCAR -->"
      ],
      "metadata": {
        "id": "lWtCe4F9NYey"
      }
    },
    {
      "cell_type": "code",
      "source": [
        "# Primeiro filtramos o dataframe com os registros da categoria que desejamos\n",
        "df_ss_p1 = df_ss[df_ss['Vagas'] == 'Vagas']"
      ],
      "metadata": {
        "id": "ex5pKhioNhWS"
      },
      "execution_count": 11,
      "outputs": []
    },
    {
      "cell_type": "code",
      "source": [
        "# Convertendo a coluna 'Vagas' para um formato numérico\n",
        "df_ss['Vagas'] = pd.to_numeric(df_ss['Vagas'], errors='coerce')\n",
        "\n",
        "# Encontrando o índice do curso com o maior número de vagas\n",
        "indice_max_vagas = df_ss['Vagas'].idxmax()\n",
        "\n",
        "# Obtendo o nome do curso correspondente ao índice encontrado\n",
        "curso_com_mais_vagas = df_ss.loc[indice_max_vagas, 'Curso']\n",
        "\n",
        "print(\"O curso com o maior número de vagas é:\", curso_com_mais_vagas)"
      ],
      "metadata": {
        "colab": {
          "base_uri": "https://localhost:8080/"
        },
        "id": "5DPzqRMdOFmc",
        "outputId": "83d8a964-b026-4756-e127-5b30ed0ccd83"
      },
      "execution_count": 12,
      "outputs": [
        {
          "output_type": "stream",
          "name": "stdout",
          "text": [
            "O curso com o maior número de vagas é: Licenciatura em Segunda Licenciatura em Educação Especial\n"
          ]
        }
      ]
    },
    {
      "cell_type": "markdown",
      "source": [
        "#2. Quantas vagas a universidade oferece por ano?"
      ],
      "metadata": {
        "id": "0cTahJnhPSCs"
      }
    },
    {
      "cell_type": "code",
      "source": [
        "# Convertendo a coluna 'Vagas' para um formato numérico\n",
        "df_ss['Vagas'] = pd.to_numeric(df_ss['Vagas'], errors='coerce')\n",
        "\n",
        "# Somando a quantidade total de vagas oferecidas\n",
        "total_vagas_oferecidas = df_ss['Vagas'].sum()\n",
        "\n",
        "print(\"O total de vagas oferecidas por todos os cursos é:\", total_vagas_oferecidas)"
      ],
      "metadata": {
        "colab": {
          "base_uri": "https://localhost:8080/"
        },
        "id": "T_XhMRVlPWVj",
        "outputId": "3064a866-53b7-49d7-8b5c-d42ba4b134fb"
      },
      "execution_count": 13,
      "outputs": [
        {
          "output_type": "stream",
          "name": "stdout",
          "text": [
            "O total de vagas oferecidas por todos os cursos é: 4432\n"
          ]
        }
      ]
    },
    {
      "cell_type": "markdown",
      "source": [
        "#3. Qual é o total de vagas oferecidas por modalidade de ensino?"
      ],
      "metadata": {
        "id": "wxmnaNxrPmYr"
      }
    },
    {
      "cell_type": "code",
      "source": [
        "\n",
        "# Convertendo a coluna 'Vagas' para um formato numérico\n",
        "df_ss['Vagas'] = pd.to_numeric(df_ss['Vagas'], errors='coerce')\n",
        "\n",
        "# Agrupando os dados por modalidade de ensino e somando as vagas para cada grupo\n",
        "vagas_por_modalidade = df_ss.groupby('Modalidade')['Vagas'].sum()\n",
        "\n",
        "# Criando o gráfico de barras\n",
        "plt.figure(figsize=(10, 6))\n",
        "vagas_por_modalidade.plot(kind='bar', color='skyblue')\n",
        "plt.title('Quantidade de Vagas por Modalidade de Ensino')\n",
        "plt.xlabel('Modalidade de Ensino')\n",
        "plt.ylabel('Quantidade de Vagas')\n",
        "plt.xticks(rotation=45, ha='right')  # Rotaciona os rótulos do eixo x para facilitar a leitura\n",
        "plt.tight_layout()  # Ajusta o layout para evitar que os rótulos se sobreponham\n",
        "plt.show()"
      ],
      "metadata": {
        "colab": {
          "base_uri": "https://localhost:8080/",
          "height": 607
        },
        "id": "UCq0wL5EPk9b",
        "outputId": "54a47de4-fa5c-4af5-d23e-90eaee660ce5"
      },
      "execution_count": 14,
      "outputs": [
        {
          "output_type": "display_data",
          "data": {
            "text/plain": [
              "<Figure size 1000x600 with 1 Axes>"
            ],
            "image/png": "[encoded data removed]"
          },
          "metadata": {}
        }
      ]
    },
    {
      "cell_type": "markdown",
      "source": [
        "#4. Quais são os 10 cursos com maior número de vagas?"
      ],
      "metadata": {
        "id": "4usu6i-eQRvb"
      }
    },
    {
      "cell_type": "code",
      "source": [
        "# Primeiro filtramos o dataframe com os registros da categoria que desejamos\n",
        "df_ss_p1 = df_ss[df_ss['Vagas'] == 'Vagas']"
      ],
      "metadata": {
        "id": "_uSJNvbfQL0F"
      },
      "execution_count": 15,
      "outputs": []
    },
    {
      "cell_type": "code",
      "source": [
        "# Convertendo a coluna 'Vagas' para um formato numérico\n",
        "df_ss['Vagas'] = pd.to_numeric(df_ss['Vagas'], errors='coerce')\n",
        "\n",
        "# Ordenando o DataFrame pela coluna 'Vagas' em ordem decrescente\n",
        "df_sorted = df_ss.sort_values(by='Vagas', ascending=False)\n",
        "\n",
        "# Selecionando os 10 cursos com mais vagas\n",
        "top_10_cursos = df_sorted.head(10)\n",
        "\n",
        "print(\"Os 10 cursos com mais vagas são:\")\n",
        "print(top_10_cursos[['Curso', 'Vagas']])\n"
      ],
      "metadata": {
        "colab": {
          "base_uri": "https://localhost:8080/"
        },
        "id": "BGqOpqEAQsWD",
        "outputId": "69972401-b6c2-49f1-ee19-a1354bf3f404"
      },
      "execution_count": 16,
      "outputs": [
        {
          "output_type": "stream",
          "name": "stdout",
          "text": [
            "Os 10 cursos com mais vagas são:\n",
            "                                                Curso  Vagas\n",
            "75  Licenciatura em Segunda Licenciatura em Educaç...    600\n",
            "74                          Licenciatura em Pedagogia    210\n",
            "72                   Licenciatura em Educação Musical    170\n",
            "76              Bacharelado em Sistemas de Informação    150\n",
            "73                Bacharelado em Engenharia Ambiental    150\n",
            "77  Bacharelado em Superior de Tecnologia em Produ...    125\n",
            "30              Bacharelado em Engenharia de Produção    100\n",
            "16                    Bacharelado em Ciências Sociais     90\n",
            "36                  Bacharelado em Engenharia Química     80\n",
            "29             Bacharelado em Engenharia de Materiais     80\n"
          ]
        }
      ]
    },
    {
      "cell_type": "markdown",
      "source": [
        "#5. Quais são os 10 cursos com menos vagas?"
      ],
      "metadata": {
        "id": "O_REmNnoROd7"
      }
    },
    {
      "cell_type": "code",
      "source": [
        "# Ordenando o DataFrame pela coluna 'Vagas' em ordem crescente\n",
        "df_sorted = df_ss.sort_values(by='Vagas', ascending=True)\n",
        "\n",
        "# Selecionando os 10 cursos com menos vagas\n",
        "bottom_10_cursos = df_sorted.head(10)\n",
        "\n",
        "print(\"Os 10 cursos com menos vagas são:\")\n",
        "print(bottom_10_cursos[['Curso', 'Vagas']])\n"
      ],
      "metadata": {
        "colab": {
          "base_uri": "https://localhost:8080/"
        },
        "id": "Q4oGqmywRVTb",
        "outputId": "97039417-2388-48e9-9330-5a0ee97445f8"
      },
      "execution_count": 17,
      "outputs": [
        {
          "output_type": "stream",
          "name": "stdout",
          "text": [
            "Os 10 cursos com menos vagas são:\n",
            "                                Curso  Vagas\n",
            "38          Licenciatura em Filosofia     18\n",
            "39           Bacharelado em Filosofia     18\n",
            "58          Bacharelado em Matemática     20\n",
            "50  Licenciatura em Letras - Espanhol     20\n",
            "51    Licenciatura em Letras - Inglês     20\n",
            "60             Licenciatura em Música     24\n",
            "44             Licenciatura em Física     25\n",
            "41              Bacharelado em Física     25\n",
            "40             Licenciatura em Física     25\n",
            "53         Licenciatura em Matemática     25\n"
          ]
        }
      ]
    },
    {
      "cell_type": "markdown",
      "source": [
        "#Desafios"
      ],
      "metadata": {
        "id": "lvuB_YIWReRD"
      }
    },
    {
      "cell_type": "markdown",
      "source": [
        "#1 - Desafio nível 1\n",
        "\n",
        "Quantos alunos a universidade recebe por ano nos turnos matutino, integral e noturno?"
      ],
      "metadata": {
        "id": "K6olDU7dRg1j"
      }
    },
    {
      "cell_type": "code",
      "source": [
        "# Convertendo a coluna 'Vagas' para um formato numérico\n",
        "df_ss['Vagas'] = pd.to_numeric(df_ss['Vagas'], errors='coerce')\n",
        "\n",
        "# Filtrando os dados para cada turno\n",
        "vagas_matutino = df_ss[df_ss['Turno'] == 'Matutino']['Vagas'].sum()\n",
        "vagas_integral = df_ss[df_ss['Turno'] == 'Integral']['Vagas'].sum()\n",
        "vagas_noturno = df_ss[df_ss['Turno'] == 'Noturno']['Vagas'].sum()\n",
        "\n",
        "# Calculando o total de alunos para cada turno\n",
        "total_alunos_matutino = vagas_matutino\n",
        "total_alunos_integral = vagas_integral\n",
        "total_alunos_noturno = vagas_noturno\n",
        "\n",
        "print(\"Total de alunos recebidos por ano nos turnos:\")\n",
        "print(\"Matutino:\", total_alunos_matutino)\n",
        "print(\"Integral:\", total_alunos_integral)\n",
        "print(\"Noturno:\", total_alunos_noturno)\n"
      ],
      "metadata": {
        "colab": {
          "base_uri": "https://localhost:8080/"
        },
        "id": "iL695cisVSdz",
        "outputId": "5948274f-0f00-40df-b36f-3fa431ca5c6a"
      },
      "execution_count": 18,
      "outputs": [
        {
          "output_type": "stream",
          "name": "stdout",
          "text": [
            "Total de alunos recebidos por ano nos turnos:\n",
            "Matutino: 3613\n",
            "Integral: 110\n",
            "Noturno: 709\n"
          ]
        }
      ]
    },
    {
      "cell_type": "markdown",
      "source": [
        "#2 - Desafio nível 2\n",
        "\n",
        "Qual campus tem mais aulas no matutino, integral e noturno?"
      ],
      "metadata": {
        "id": "mNlzLfCMR4Qz"
      }
    },
    {
      "cell_type": "code",
      "source": [
        "# Contando o número de cursos oferecidos em cada campus para cada turno\n",
        "campus_matutino = df_ss[df_ss['Turno'] == 'Matutino']['Campus'].value_counts().idxmax()\n",
        "campus_integral = df_ss[df_ss['Turno'] == 'Integral']['Campus'].value_counts().idxmax()\n",
        "campus_noturno = df_ss[df_ss['Turno'] == 'Noturno']['Campus'].value_counts().idxmax()\n",
        "\n",
        "print(\"Campus com mais aulas no turno matutino:\", campus_matutino)\n",
        "print(\"Campus com mais aulas no turno integral:\", campus_integral)\n",
        "print(\"Campus com mais aulas no turno noturno:\", campus_noturno)\n"
      ],
      "metadata": {
        "colab": {
          "base_uri": "https://localhost:8080/"
        },
        "id": "tSDskKu3VaMD",
        "outputId": "700ad11c-ffdd-495d-b283-66e11c194302"
      },
      "execution_count": 19,
      "outputs": [
        {
          "output_type": "stream",
          "name": "stdout",
          "text": [
            "Campus com mais aulas no turno matutino: São Carlos\n",
            "Campus com mais aulas no turno integral: São Carlos\n",
            "Campus com mais aulas no turno noturno: São Carlos\n"
          ]
        }
      ]
    },
    {
      "cell_type": "markdown",
      "source": [],
      "metadata": {
        "id": "gbeSdqW0Suc8"
      }
    }
  ]
}