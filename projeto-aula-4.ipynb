{
 "cells": [
  {
   "cell_type": "markdown",
   "id": "8cd01c6f",
   "metadata": {
    "papermill": {
     "duration": 0.007827,
     "end_time": "2024-03-27T13:49:09.247663",
     "exception": false,
     "start_time": "2024-03-27T13:49:09.239836",
     "status": "completed"
    },
    "tags": []
   },
   "source": [
    "<!DOCTYPE html>\n",
    "<html>\n",
    "\n",
    "<div class='container2'>\n",
    "<div>\n",
    "<img src='https://w7.pngwing.com/pngs/500/980/png-transparent-internet-of-things-artificial-intelligence-big-data-artificial-brain-technology-angle-electronics-text.png' ALIGN='left' style='width:10em'>\n",
    "</div>\t\n",
    "<div style='padding: 0 7em 2em 12em;'>\n",
    "<h1>Laboratório de Inovação e Automação 1 (LIA 1)</h1>\n",
    "\n",
    "<div style=\"font-size:12pt;float:left;\"><b>Projetos de Inteligência Artificial</b></div>\n",
    "</div>\n",
    "</div>\n",
    "\n",
    "<hr style=\"height:5px\">\n",
    "\n",
    "<h2>Introdução ao Ambiente de Projetos - Python</h2>\n",
    "\n",
    "Notebook desenvolvido por: <a href=\"http://lattes.cnpq.br/4885240677233306\">Aluna. Juliana do Nascimento Rocha</a>\n",
    "\n",
    "<hr style=\"height:2px\">\n",
    "<\\html>"
   ]
  },
  {
   "cell_type": "code",
   "execution_count": 1,
   "id": "36478489",
   "metadata": {
    "execution": {
     "iopub.execute_input": "2024-03-27T13:49:09.265493Z",
     "iopub.status.busy": "2024-03-27T13:49:09.264458Z",
     "iopub.status.idle": "2024-03-27T13:49:09.279615Z",
     "shell.execute_reply": "2024-03-27T13:49:09.278438Z"
    },
    "papermill": {
     "duration": 0.027389,
     "end_time": "2024-03-27T13:49:09.282547",
     "exception": false,
     "start_time": "2024-03-27T13:49:09.255158",
     "status": "completed"
    },
    "tags": []
   },
   "outputs": [
    {
     "name": "stdout",
     "output_type": "stream",
     "text": [
      "A versão em uso é 3.10.13.\n"
     ]
    }
   ],
   "source": [
    "from platform import python_version\n",
    "print(f'A versão em uso é {python_version()}.')"
   ]
  },
  {
   "cell_type": "markdown",
   "id": "13082eae",
   "metadata": {
    "papermill": {
     "duration": 0.007107,
     "end_time": "2024-03-27T13:49:09.297083",
     "exception": false,
     "start_time": "2024-03-27T13:49:09.289976",
     "status": "completed"
    },
    "tags": []
   },
   "source": [
    "Tipo de Dados (Type)"
   ]
  },
  {
   "cell_type": "code",
   "execution_count": 2,
   "id": "76682c1b",
   "metadata": {
    "execution": {
     "iopub.execute_input": "2024-03-27T13:49:09.315248Z",
     "iopub.status.busy": "2024-03-27T13:49:09.314417Z",
     "iopub.status.idle": "2024-03-27T13:49:09.322158Z",
     "shell.execute_reply": "2024-03-27T13:49:09.321187Z"
    },
    "papermill": {
     "duration": 0.020176,
     "end_time": "2024-03-27T13:49:09.324569",
     "exception": false,
     "start_time": "2024-03-27T13:49:09.304393",
     "status": "completed"
    },
    "tags": []
   },
   "outputs": [
    {
     "data": {
      "text/plain": [
       "int"
      ]
     },
     "execution_count": 2,
     "metadata": {},
     "output_type": "execute_result"
    }
   ],
   "source": [
    "# Qual o tipo do (?) -> Inteiro\n",
    "type(5)"
   ]
  },
  {
   "cell_type": "code",
   "execution_count": 3,
   "id": "4f954a00",
   "metadata": {
    "execution": {
     "iopub.execute_input": "2024-03-27T13:49:09.342478Z",
     "iopub.status.busy": "2024-03-27T13:49:09.341102Z",
     "iopub.status.idle": "2024-03-27T13:49:09.348635Z",
     "shell.execute_reply": "2024-03-27T13:49:09.347510Z"
    },
    "papermill": {
     "duration": 0.019542,
     "end_time": "2024-03-27T13:49:09.351659",
     "exception": false,
     "start_time": "2024-03-27T13:49:09.332117",
     "status": "completed"
    },
    "tags": []
   },
   "outputs": [
    {
     "data": {
      "text/plain": [
       "float"
      ]
     },
     "execution_count": 3,
     "metadata": {},
     "output_type": "execute_result"
    }
   ],
   "source": [
    "\n",
    "\n",
    "# Qual o tipo do (?) -> Float - Decimal\n",
    "type(5.0)\n"
   ]
  },
  {
   "cell_type": "code",
   "execution_count": 4,
   "id": "b58e7628",
   "metadata": {
    "execution": {
     "iopub.execute_input": "2024-03-27T13:49:09.369284Z",
     "iopub.status.busy": "2024-03-27T13:49:09.368824Z",
     "iopub.status.idle": "2024-03-27T13:49:09.376695Z",
     "shell.execute_reply": "2024-03-27T13:49:09.375322Z"
    },
    "papermill": {
     "duration": 0.0198,
     "end_time": "2024-03-27T13:49:09.379392",
     "exception": false,
     "start_time": "2024-03-27T13:49:09.359592",
     "status": "completed"
    },
    "tags": []
   },
   "outputs": [
    {
     "data": {
      "text/plain": [
       "str"
      ]
     },
     "execution_count": 4,
     "metadata": {},
     "output_type": "execute_result"
    }
   ],
   "source": [
    "#Qual o tipo de dado\n",
    "a = 'estudando python!'\n",
    "type(a)"
   ]
  },
  {
   "cell_type": "markdown",
   "id": "c75c5af9",
   "metadata": {
    "papermill": {
     "duration": 0.00764,
     "end_time": "2024-03-27T13:49:09.395205",
     "exception": false,
     "start_time": "2024-03-27T13:49:09.387565",
     "status": "completed"
    },
    "tags": []
   },
   "source": [
    "Operadores aritmeticos\n"
   ]
  },
  {
   "cell_type": "code",
   "execution_count": 5,
   "id": "4f6a95af",
   "metadata": {
    "execution": {
     "iopub.execute_input": "2024-03-27T13:49:09.414005Z",
     "iopub.status.busy": "2024-03-27T13:49:09.413491Z",
     "iopub.status.idle": "2024-03-27T13:49:09.421026Z",
     "shell.execute_reply": "2024-03-27T13:49:09.419812Z"
    },
    "papermill": {
     "duration": 0.020499,
     "end_time": "2024-03-27T13:49:09.423642",
     "exception": false,
     "start_time": "2024-03-27T13:49:09.403143",
     "status": "completed"
    },
    "tags": []
   },
   "outputs": [
    {
     "data": {
      "text/plain": [
       "2"
      ]
     },
     "execution_count": 5,
     "metadata": {},
     "output_type": "execute_result"
    }
   ],
   "source": [
    "#adição\n",
    "1+1"
   ]
  },
  {
   "cell_type": "code",
   "execution_count": 6,
   "id": "35ecb693",
   "metadata": {
    "execution": {
     "iopub.execute_input": "2024-03-27T13:49:09.443034Z",
     "iopub.status.busy": "2024-03-27T13:49:09.442564Z",
     "iopub.status.idle": "2024-03-27T13:49:09.449562Z",
     "shell.execute_reply": "2024-03-27T13:49:09.448306Z"
    },
    "papermill": {
     "duration": 0.020083,
     "end_time": "2024-03-27T13:49:09.452101",
     "exception": false,
     "start_time": "2024-03-27T13:49:09.432018",
     "status": "completed"
    },
    "tags": []
   },
   "outputs": [
    {
     "data": {
      "text/plain": [
       "9"
      ]
     },
     "execution_count": 6,
     "metadata": {},
     "output_type": "execute_result"
    }
   ],
   "source": [
    "#subtração\n",
    "18-9"
   ]
  },
  {
   "cell_type": "code",
   "execution_count": 7,
   "id": "a1325188",
   "metadata": {
    "execution": {
     "iopub.execute_input": "2024-03-27T13:49:09.472575Z",
     "iopub.status.busy": "2024-03-27T13:49:09.472073Z",
     "iopub.status.idle": "2024-03-27T13:49:09.480355Z",
     "shell.execute_reply": "2024-03-27T13:49:09.479104Z"
    },
    "papermill": {
     "duration": 0.022353,
     "end_time": "2024-03-27T13:49:09.483124",
     "exception": false,
     "start_time": "2024-03-27T13:49:09.460771",
     "status": "completed"
    },
    "tags": []
   },
   "outputs": [
    {
     "data": {
      "text/plain": [
       "18"
      ]
     },
     "execution_count": 7,
     "metadata": {},
     "output_type": "execute_result"
    }
   ],
   "source": [
    "#Multiplicação\n",
    "3*6"
   ]
  },
  {
   "cell_type": "code",
   "execution_count": 8,
   "id": "41abc143",
   "metadata": {
    "execution": {
     "iopub.execute_input": "2024-03-27T13:49:09.503419Z",
     "iopub.status.busy": "2024-03-27T13:49:09.502975Z",
     "iopub.status.idle": "2024-03-27T13:49:09.509627Z",
     "shell.execute_reply": "2024-03-27T13:49:09.508592Z"
    },
    "papermill": {
     "duration": 0.020313,
     "end_time": "2024-03-27T13:49:09.512335",
     "exception": false,
     "start_time": "2024-03-27T13:49:09.492022",
     "status": "completed"
    },
    "tags": []
   },
   "outputs": [
    {
     "data": {
      "text/plain": [
       "2.0"
      ]
     },
     "execution_count": 8,
     "metadata": {},
     "output_type": "execute_result"
    }
   ],
   "source": [
    "#Divisão\n",
    "8/4"
   ]
  },
  {
   "cell_type": "code",
   "execution_count": 9,
   "id": "b725b8f0",
   "metadata": {
    "execution": {
     "iopub.execute_input": "2024-03-27T13:49:09.534096Z",
     "iopub.status.busy": "2024-03-27T13:49:09.533187Z",
     "iopub.status.idle": "2024-03-27T13:49:09.540002Z",
     "shell.execute_reply": "2024-03-27T13:49:09.538783Z"
    },
    "papermill": {
     "duration": 0.020421,
     "end_time": "2024-03-27T13:49:09.542796",
     "exception": false,
     "start_time": "2024-03-27T13:49:09.522375",
     "status": "completed"
    },
    "tags": []
   },
   "outputs": [
    {
     "data": {
      "text/plain": [
       "16"
      ]
     },
     "execution_count": 9,
     "metadata": {},
     "output_type": "execute_result"
    }
   ],
   "source": [
    "#Potência\n",
    "2 ** 4"
   ]
  },
  {
   "cell_type": "code",
   "execution_count": 10,
   "id": "0cfcaa62",
   "metadata": {
    "execution": {
     "iopub.execute_input": "2024-03-27T13:49:09.564371Z",
     "iopub.status.busy": "2024-03-27T13:49:09.563293Z",
     "iopub.status.idle": "2024-03-27T13:49:09.570210Z",
     "shell.execute_reply": "2024-03-27T13:49:09.569209Z"
    },
    "papermill": {
     "duration": 0.023123,
     "end_time": "2024-03-27T13:49:09.575566",
     "exception": false,
     "start_time": "2024-03-27T13:49:09.552443",
     "status": "completed"
    },
    "tags": []
   },
   "outputs": [
    {
     "data": {
      "text/plain": [
       "1"
      ]
     },
     "execution_count": 10,
     "metadata": {},
     "output_type": "execute_result"
    }
   ],
   "source": [
    "#Módulo\n",
    "10%3"
   ]
  },
  {
   "cell_type": "markdown",
   "id": "ec1d86f2",
   "metadata": {
    "papermill": {
     "duration": 0.009325,
     "end_time": "2024-03-27T13:49:09.594937",
     "exception": false,
     "start_time": "2024-03-27T13:49:09.585612",
     "status": "completed"
    },
    "tags": []
   },
   "source": [
    "Condicional if"
   ]
  },
  {
   "cell_type": "code",
   "execution_count": 11,
   "id": "7da948a3",
   "metadata": {
    "execution": {
     "iopub.execute_input": "2024-03-27T13:49:09.616296Z",
     "iopub.status.busy": "2024-03-27T13:49:09.615442Z",
     "iopub.status.idle": "2024-03-27T13:49:09.622134Z",
     "shell.execute_reply": "2024-03-27T13:49:09.620917Z"
    },
    "papermill": {
     "duration": 0.020114,
     "end_time": "2024-03-27T13:49:09.624404",
     "exception": false,
     "start_time": "2024-03-27T13:49:09.604290",
     "status": "completed"
    },
    "tags": []
   },
   "outputs": [
    {
     "name": "stdout",
     "output_type": "stream",
     "text": [
      "A sentença é verdadeira!\n",
      "A sentença é falsa!\n"
     ]
    }
   ],
   "source": [
    "# Condicional if (Se)\n",
    "if 5 > 2:\n",
    "    print(\"A sentença é verdadeira!\")\n",
    "# Condicional if...else\n",
    "if 5 < 2:\n",
    "    print(\"A sentença é verdadeira!\")\n",
    "else:\n",
    "    print(\"A sentença é falsa!\")\n"
   ]
  },
  {
   "cell_type": "markdown",
   "id": "5a7e9abb",
   "metadata": {
    "papermill": {
     "duration": 0.009047,
     "end_time": "2024-03-27T13:49:09.643045",
     "exception": false,
     "start_time": "2024-03-27T13:49:09.633998",
     "status": "completed"
    },
    "tags": []
   },
   "source": [
    "Manipulando arquivos"
   ]
  },
  {
   "cell_type": "code",
   "execution_count": 12,
   "id": "63b9c226",
   "metadata": {
    "execution": {
     "iopub.execute_input": "2024-03-27T13:49:09.665739Z",
     "iopub.status.busy": "2024-03-27T13:49:09.664246Z",
     "iopub.status.idle": "2024-03-27T13:49:09.671486Z",
     "shell.execute_reply": "2024-03-27T13:49:09.670188Z"
    },
    "papermill": {
     "duration": 0.020834,
     "end_time": "2024-03-27T13:49:09.673868",
     "exception": false,
     "start_time": "2024-03-27T13:49:09.653034",
     "status": "completed"
    },
    "tags": []
   },
   "outputs": [
    {
     "name": "stdout",
     "output_type": "stream",
     "text": [
      "Bye bye, World!\n"
     ]
    }
   ],
   "source": [
    "# Verificar se o Python está funcionando\n",
    "print('Bye bye, World!')\n"
   ]
  },
  {
   "cell_type": "code",
   "execution_count": 13,
   "id": "6e74e3b5",
   "metadata": {
    "execution": {
     "iopub.execute_input": "2024-03-27T13:49:09.695352Z",
     "iopub.status.busy": "2024-03-27T13:49:09.694903Z",
     "iopub.status.idle": "2024-03-27T13:49:09.708021Z",
     "shell.execute_reply": "2024-03-27T13:49:09.706572Z"
    },
    "papermill": {
     "duration": 0.027583,
     "end_time": "2024-03-27T13:49:09.711221",
     "exception": false,
     "start_time": "2024-03-27T13:49:09.683638",
     "status": "completed"
    },
    "tags": []
   },
   "outputs": [],
   "source": [
    "# Abrindo o arquivo para a leitura\n",
    "a1 = open(\"/kaggle/input/dataset-aulas-2703/Arquivo1.txt\", \"r\")\n"
   ]
  },
  {
   "cell_type": "code",
   "execution_count": 14,
   "id": "0a736849",
   "metadata": {
    "execution": {
     "iopub.execute_input": "2024-03-27T13:49:09.733046Z",
     "iopub.status.busy": "2024-03-27T13:49:09.732622Z",
     "iopub.status.idle": "2024-03-27T13:49:09.739866Z",
     "shell.execute_reply": "2024-03-27T13:49:09.738467Z"
    },
    "papermill": {
     "duration": 0.021157,
     "end_time": "2024-03-27T13:49:09.742338",
     "exception": false,
     "start_time": "2024-03-27T13:49:09.721181",
     "status": "completed"
    },
    "tags": []
   },
   "outputs": [
    {
     "name": "stdout",
     "output_type": "stream",
     "text": [
      "\n"
     ]
    }
   ],
   "source": [
    "#lendo o projeto\n",
    "print(a1.read())"
   ]
  },
  {
   "cell_type": "code",
   "execution_count": 15,
   "id": "6d607269",
   "metadata": {
    "execution": {
     "iopub.execute_input": "2024-03-27T13:49:09.764147Z",
     "iopub.status.busy": "2024-03-27T13:49:09.763714Z",
     "iopub.status.idle": "2024-03-27T13:49:09.769482Z",
     "shell.execute_reply": "2024-03-27T13:49:09.768333Z"
    },
    "papermill": {
     "duration": 0.019662,
     "end_time": "2024-03-27T13:49:09.771919",
     "exception": false,
     "start_time": "2024-03-27T13:49:09.752257",
     "status": "completed"
    },
    "tags": []
   },
   "outputs": [],
   "source": [
    "a2 = open(\"/kaggle/working/arquivos2.txt\", \"w\")"
   ]
  },
  {
   "cell_type": "code",
   "execution_count": 16,
   "id": "88d9455a",
   "metadata": {
    "execution": {
     "iopub.execute_input": "2024-03-27T13:49:09.793732Z",
     "iopub.status.busy": "2024-03-27T13:49:09.793151Z",
     "iopub.status.idle": "2024-03-27T13:49:09.799994Z",
     "shell.execute_reply": "2024-03-27T13:49:09.798962Z"
    },
    "papermill": {
     "duration": 0.021716,
     "end_time": "2024-03-27T13:49:09.803295",
     "exception": false,
     "start_time": "2024-03-27T13:49:09.781579",
     "status": "completed"
    },
    "tags": []
   },
   "outputs": [
    {
     "data": {
      "text/plain": [
       "59"
      ]
     },
     "execution_count": 16,
     "metadata": {},
     "output_type": "execute_result"
    }
   ],
   "source": [
    "#Gravando no arquivo\n",
    "a2.write(\"Aprendendo Python em 2024/1 ao som de um cortador de grama!\")"
   ]
  },
  {
   "cell_type": "code",
   "execution_count": 17,
   "id": "d25deef7",
   "metadata": {
    "execution": {
     "iopub.execute_input": "2024-03-27T13:49:09.825185Z",
     "iopub.status.busy": "2024-03-27T13:49:09.824781Z",
     "iopub.status.idle": "2024-03-27T13:49:09.830097Z",
     "shell.execute_reply": "2024-03-27T13:49:09.828996Z"
    },
    "papermill": {
     "duration": 0.019422,
     "end_time": "2024-03-27T13:49:09.832624",
     "exception": false,
     "start_time": "2024-03-27T13:49:09.813202",
     "status": "completed"
    },
    "tags": []
   },
   "outputs": [],
   "source": [
    "#Abrindo o arquivo para a leitura\n",
    "a2 = open(\"/kaggle/working/arquivos2.txt\", \"r\")"
   ]
  },
  {
   "cell_type": "code",
   "execution_count": 18,
   "id": "06719320",
   "metadata": {
    "execution": {
     "iopub.execute_input": "2024-03-27T13:49:09.854633Z",
     "iopub.status.busy": "2024-03-27T13:49:09.854190Z",
     "iopub.status.idle": "2024-03-27T13:49:09.860016Z",
     "shell.execute_reply": "2024-03-27T13:49:09.858792Z"
    },
    "papermill": {
     "duration": 0.020231,
     "end_time": "2024-03-27T13:49:09.862904",
     "exception": false,
     "start_time": "2024-03-27T13:49:09.842673",
     "status": "completed"
    },
    "tags": []
   },
   "outputs": [
    {
     "name": "stdout",
     "output_type": "stream",
     "text": [
      "Aprendendo Python em 2024/1 ao som de um cortador de grama!\n"
     ]
    }
   ],
   "source": [
    "#imprimindo arquivo\n",
    "print(a2.read())"
   ]
  }
 ],
 "metadata": {
  "kaggle": {
   "accelerator": "none",
   "dataSources": [
    {
     "datasetId": 4680236,
     "sourceId": 7956923,
     "sourceType": "datasetVersion"
    }
   ],
   "dockerImageVersionId": 30673,
   "isGpuEnabled": false,
   "isInternetEnabled": false,
   "language": "python",
   "sourceType": "notebook"
  },
  "kernelspec": {
   "display_name": "Python 3",
   "language": "python",
   "name": "python3"
  },
  "language_info": {
   "codemirror_mode": {
    "name": "ipython",
    "version": 3
   },
   "file_extension": ".py",
   "mimetype": "text/x-python",
   "name": "python",
   "nbconvert_exporter": "python",
   "pygments_lexer": "ipython3",
   "version": "3.10.13"
  },
  "papermill": {
   "default_parameters": {},
   "duration": 4.377415,
   "end_time": "2024-03-27T13:49:10.295969",
   "environment_variables": {},
   "exception": null,
   "input_path": "__notebook__.ipynb",
   "output_path": "__notebook__.ipynb",
   "parameters": {},
   "start_time": "2024-03-27T13:49:05.918554",
   "version": "2.5.0"
  }
 },
 "nbformat": 4,
 "nbformat_minor": 5
}
